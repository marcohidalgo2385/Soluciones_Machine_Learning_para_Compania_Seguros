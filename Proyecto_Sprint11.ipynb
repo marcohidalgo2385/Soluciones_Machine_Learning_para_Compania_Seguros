{
 "cells": [
  {
   "cell_type": "markdown",
   "metadata": {},
   "source": [
    "¡Hola!\n",
    "\n",
    "Mi nombre es Tonatiuh Cruz. Me complace revisar tu proyecto hoy.\n",
    "\n",
    "Al identificar cualquier error inicialmente, simplemente los destacaré. Te animo a localizar y abordar los problemas de forma independiente como parte de tu preparación para un rol como data-scientist. En un entorno profesional, tu líder de equipo seguiría un enfoque similar. Si encuentras la tarea desafiante, proporcionaré una pista más específica en la próxima iteración.\n",
    "\n",
    "Encontrarás mis comentarios a continuación - **por favor no los muevas, modifiques o elimines**.\n",
    "\n",
    "Puedes encontrar mis comentarios en cajas verdes, amarillas o rojas como esta:\n",
    "\n",
    "<div class=\"alert alert-block alert-success\">\n",
    "<b>Comentario del revisor</b> <a class=\"tocSkip\"></a>\n",
    "\n",
    "Éxito. Todo está hecho correctamente.\n",
    "</div>\n",
    "\n",
    "<div class=\"alert alert-block alert-warning\">\n",
    "<b>Comentario del revisor</b> <a class=\"tocSkip\"></a>\n",
    "\n",
    "Observaciones. Algunas recomendaciones.\n",
    "</div>\n",
    "\n",
    "<div class=\"alert alert-block alert-danger\">\n",
    "<b>Comentario del revisor</b> <a class=\"tocSkip\"></a>\n",
    "\n",
    "Necesita corrección. El bloque requiere algunas correcciones. El trabajo no puede ser aceptado con comentarios en rojo.\n",
    "</div>\n",
    "\n",
    "Puedes responderme utilizando esto:\n",
    "\n",
    "<div class=\"alert alert-block alert-info\">\n",
    "<b>Respuesta del estudiante.</b> <a class=\"tocSkip\"></a>\n",
    "</div>"
   ]
  },
  {
   "cell_type": "markdown",
   "metadata": {},
   "source": [
    "# Descripción"
   ]
  },
  {
   "cell_type": "markdown",
   "metadata": {},
   "source": [
    "La compañía de seguros Sure Tomorrow quiere resolver varias tareas con la ayuda de machine learning y te pide que evalúes esa posibilidad.\n",
    "- Tarea 1: encontrar clientes que sean similares a un cliente determinado. Esto ayudará a los agentes de la compañía con el marketing.\n",
    "- Tarea 2: predecir la probabilidad de que un nuevo cliente reciba una prestación del seguro. ¿Puede un modelo de predictivo funcionar mejor que un modelo dummy?\n",
    "- Tarea 3: predecir el número de prestaciones de seguro que un nuevo cliente pueda recibir utilizando un modelo de regresión lineal.\n",
    "- Tarea 4: proteger los datos personales de los clientes sin afectar al modelo del ejercicio anterior. Es necesario desarrollar un algoritmo de transformación de datos que dificulte la recuperación de la información personal si los datos caen en manos equivocadas. Esto se denomina enmascaramiento u ofuscación de datos. Pero los datos deben protegerse de tal manera que no se vea afectada la calidad de los modelos de machine learning. No es necesario elegir el mejor modelo, basta con demostrar que el algoritmo funciona correctamente.\n"
   ]
  },
  {
   "cell_type": "markdown",
   "metadata": {},
   "source": [
    "# Preprocesamiento y exploración de datos\n",
    "\n",
    "## Inicialización"
   ]
  },
  {
   "cell_type": "code",
   "execution_count": 1,
   "metadata": {},
   "outputs": [
    {
     "name": "stdout",
     "output_type": "stream",
     "text": [
      "Requirement already satisfied: scikit-learn in /opt/conda/envs/python3/lib/python3.9/site-packages (0.24.1)\n",
      "Collecting scikit-learn\n",
      "  Downloading scikit_learn-1.5.1-cp39-cp39-manylinux_2_17_x86_64.manylinux2014_x86_64.whl.metadata (12 kB)\n",
      "Requirement already satisfied: numpy>=1.19.5 in /opt/conda/envs/python3/lib/python3.9/site-packages (from scikit-learn) (1.21.2)\n",
      "Requirement already satisfied: scipy>=1.6.0 in /opt/conda/envs/python3/lib/python3.9/site-packages (from scikit-learn) (1.10.1)\n",
      "Requirement already satisfied: joblib>=1.2.0 in /opt/conda/envs/python3/lib/python3.9/site-packages (from scikit-learn) (1.4.2)\n",
      "Requirement already satisfied: threadpoolctl>=3.1.0 in /opt/conda/envs/python3/lib/python3.9/site-packages (from scikit-learn) (3.5.0)\n",
      "Downloading scikit_learn-1.5.1-cp39-cp39-manylinux_2_17_x86_64.manylinux2014_x86_64.whl (13.4 MB)\n",
      "\u001b[2K   \u001b[90m━━━━━━━━━━━━━━━━━━━━━━━━━━━━━━━━━━━━━━━━\u001b[0m \u001b[32m13.4/13.4 MB\u001b[0m \u001b[31m103.5 MB/s\u001b[0m eta \u001b[36m0:00:00\u001b[0m00:01\u001b[0m0:01\u001b[0m\n",
      "\u001b[?25hInstalling collected packages: scikit-learn\n",
      "  Attempting uninstall: scikit-learn\n",
      "    Found existing installation: scikit-learn 0.24.1\n",
      "    Uninstalling scikit-learn-0.24.1:\n",
      "\u001b[31mERROR: Could not install packages due to an OSError: [Errno 13] Permission denied: 'COPYING'\n",
      "Consider using the `--user` option or check the permissions.\n",
      "\u001b[0m\u001b[31m\n",
      "\u001b[0mNote: you may need to restart the kernel to use updated packages.\n"
     ]
    }
   ],
   "source": [
    "pip install scikit-learn --upgrade"
   ]
  },
  {
   "cell_type": "code",
   "execution_count": 2,
   "metadata": {},
   "outputs": [],
   "source": [
    "import numpy as np\n",
    "import pandas as pd\n",
    "import math\n",
    "\n",
    "import seaborn as sns\n",
    "import matplotlib.pyplot as plt\n",
    "\n",
    "import sklearn.linear_model\n",
    "import sklearn.metrics\n",
    "import sklearn.neighbors\n",
    "from sklearn.neighbors import NearestNeighbors\n",
    "import sklearn.preprocessing\n",
    "\n",
    "from sklearn.model_selection import train_test_split\n",
    "\n",
    "from IPython.display import display"
   ]
  },
  {
   "cell_type": "markdown",
   "metadata": {},
   "source": [
    "## Carga de datos"
   ]
  },
  {
   "cell_type": "markdown",
   "metadata": {},
   "source": [
    "Carga los datos y haz una revisión básica para comprobar que no hay problemas obvios."
   ]
  },
  {
   "cell_type": "code",
   "execution_count": 3,
   "metadata": {},
   "outputs": [],
   "source": [
    "df = pd.read_csv('/datasets/insurance_us.csv')"
   ]
  },
  {
   "cell_type": "markdown",
   "metadata": {},
   "source": [
    "Renombramos las columnas para que el código se vea más coherente con su estilo."
   ]
  },
  {
   "cell_type": "code",
   "execution_count": 4,
   "metadata": {},
   "outputs": [],
   "source": [
    "df = df.rename(columns={'Gender': 'gender', 'Age': 'age', 'Salary': 'income', 'Family members': 'family_members', 'Insurance benefits': 'insurance_benefits'})"
   ]
  },
  {
   "cell_type": "code",
   "execution_count": 5,
   "metadata": {},
   "outputs": [
    {
     "data": {
      "text/html": [
       "<div>\n",
       "<style scoped>\n",
       "    .dataframe tbody tr th:only-of-type {\n",
       "        vertical-align: middle;\n",
       "    }\n",
       "\n",
       "    .dataframe tbody tr th {\n",
       "        vertical-align: top;\n",
       "    }\n",
       "\n",
       "    .dataframe thead th {\n",
       "        text-align: right;\n",
       "    }\n",
       "</style>\n",
       "<table border=\"1\" class=\"dataframe\">\n",
       "  <thead>\n",
       "    <tr style=\"text-align: right;\">\n",
       "      <th></th>\n",
       "      <th>gender</th>\n",
       "      <th>age</th>\n",
       "      <th>income</th>\n",
       "      <th>family_members</th>\n",
       "      <th>insurance_benefits</th>\n",
       "    </tr>\n",
       "  </thead>\n",
       "  <tbody>\n",
       "    <tr>\n",
       "      <th>186</th>\n",
       "      <td>0</td>\n",
       "      <td>22.0</td>\n",
       "      <td>50800.0</td>\n",
       "      <td>0</td>\n",
       "      <td>0</td>\n",
       "    </tr>\n",
       "    <tr>\n",
       "      <th>2517</th>\n",
       "      <td>0</td>\n",
       "      <td>43.0</td>\n",
       "      <td>37500.0</td>\n",
       "      <td>0</td>\n",
       "      <td>1</td>\n",
       "    </tr>\n",
       "    <tr>\n",
       "      <th>585</th>\n",
       "      <td>1</td>\n",
       "      <td>45.0</td>\n",
       "      <td>54200.0</td>\n",
       "      <td>0</td>\n",
       "      <td>1</td>\n",
       "    </tr>\n",
       "    <tr>\n",
       "      <th>1277</th>\n",
       "      <td>1</td>\n",
       "      <td>26.0</td>\n",
       "      <td>62800.0</td>\n",
       "      <td>0</td>\n",
       "      <td>0</td>\n",
       "    </tr>\n",
       "    <tr>\n",
       "      <th>3694</th>\n",
       "      <td>1</td>\n",
       "      <td>29.0</td>\n",
       "      <td>50800.0</td>\n",
       "      <td>0</td>\n",
       "      <td>0</td>\n",
       "    </tr>\n",
       "    <tr>\n",
       "      <th>3649</th>\n",
       "      <td>1</td>\n",
       "      <td>25.0</td>\n",
       "      <td>60400.0</td>\n",
       "      <td>0</td>\n",
       "      <td>0</td>\n",
       "    </tr>\n",
       "    <tr>\n",
       "      <th>3974</th>\n",
       "      <td>1</td>\n",
       "      <td>35.0</td>\n",
       "      <td>48200.0</td>\n",
       "      <td>1</td>\n",
       "      <td>0</td>\n",
       "    </tr>\n",
       "    <tr>\n",
       "      <th>2428</th>\n",
       "      <td>0</td>\n",
       "      <td>29.0</td>\n",
       "      <td>43400.0</td>\n",
       "      <td>1</td>\n",
       "      <td>0</td>\n",
       "    </tr>\n",
       "    <tr>\n",
       "      <th>1805</th>\n",
       "      <td>1</td>\n",
       "      <td>45.0</td>\n",
       "      <td>35700.0</td>\n",
       "      <td>1</td>\n",
       "      <td>1</td>\n",
       "    </tr>\n",
       "    <tr>\n",
       "      <th>1830</th>\n",
       "      <td>0</td>\n",
       "      <td>22.0</td>\n",
       "      <td>44100.0</td>\n",
       "      <td>1</td>\n",
       "      <td>0</td>\n",
       "    </tr>\n",
       "  </tbody>\n",
       "</table>\n",
       "</div>"
      ],
      "text/plain": [
       "      gender   age   income  family_members  insurance_benefits\n",
       "186        0  22.0  50800.0               0                   0\n",
       "2517       0  43.0  37500.0               0                   1\n",
       "585        1  45.0  54200.0               0                   1\n",
       "1277       1  26.0  62800.0               0                   0\n",
       "3694       1  29.0  50800.0               0                   0\n",
       "3649       1  25.0  60400.0               0                   0\n",
       "3974       1  35.0  48200.0               1                   0\n",
       "2428       0  29.0  43400.0               1                   0\n",
       "1805       1  45.0  35700.0               1                   1\n",
       "1830       0  22.0  44100.0               1                   0"
      ]
     },
     "execution_count": 5,
     "metadata": {},
     "output_type": "execute_result"
    }
   ],
   "source": [
    "df.sample(10)"
   ]
  },
  {
   "cell_type": "code",
   "execution_count": 6,
   "metadata": {},
   "outputs": [
    {
     "name": "stdout",
     "output_type": "stream",
     "text": [
      "<class 'pandas.core.frame.DataFrame'>\n",
      "RangeIndex: 5000 entries, 0 to 4999\n",
      "Data columns (total 5 columns):\n",
      " #   Column              Non-Null Count  Dtype  \n",
      "---  ------              --------------  -----  \n",
      " 0   gender              5000 non-null   int64  \n",
      " 1   age                 5000 non-null   float64\n",
      " 2   income              5000 non-null   float64\n",
      " 3   family_members      5000 non-null   int64  \n",
      " 4   insurance_benefits  5000 non-null   int64  \n",
      "dtypes: float64(2), int64(3)\n",
      "memory usage: 195.4 KB\n"
     ]
    }
   ],
   "source": [
    "df.info()"
   ]
  },
  {
   "cell_type": "code",
   "execution_count": 7,
   "metadata": {},
   "outputs": [],
   "source": [
    "# puede que queramos cambiar el tipo de edad (de float a int) aunque esto no es crucial\n",
    "\n",
    "# escribe tu conversión aquí si lo deseas:\n",
    "df['age'] = df['age'].astype(int)\n"
   ]
  },
  {
   "cell_type": "code",
   "execution_count": 8,
   "metadata": {},
   "outputs": [
    {
     "name": "stdout",
     "output_type": "stream",
     "text": [
      "<class 'pandas.core.frame.DataFrame'>\n",
      "RangeIndex: 5000 entries, 0 to 4999\n",
      "Data columns (total 5 columns):\n",
      " #   Column              Non-Null Count  Dtype  \n",
      "---  ------              --------------  -----  \n",
      " 0   gender              5000 non-null   int64  \n",
      " 1   age                 5000 non-null   int64  \n",
      " 2   income              5000 non-null   float64\n",
      " 3   family_members      5000 non-null   int64  \n",
      " 4   insurance_benefits  5000 non-null   int64  \n",
      "dtypes: float64(1), int64(4)\n",
      "memory usage: 195.4 KB\n"
     ]
    }
   ],
   "source": [
    "# comprueba que la conversión se haya realizado con éxito\n",
    "df.info()"
   ]
  },
  {
   "cell_type": "code",
   "execution_count": 9,
   "metadata": {},
   "outputs": [],
   "source": [
    "# ahora echa un vistazo a las estadísticas descriptivas de los datos.# ¿Se ve todo bien?"
   ]
  },
  {
   "cell_type": "code",
   "execution_count": 10,
   "metadata": {},
   "outputs": [
    {
     "data": {
      "text/html": [
       "<div>\n",
       "<style scoped>\n",
       "    .dataframe tbody tr th:only-of-type {\n",
       "        vertical-align: middle;\n",
       "    }\n",
       "\n",
       "    .dataframe tbody tr th {\n",
       "        vertical-align: top;\n",
       "    }\n",
       "\n",
       "    .dataframe thead th {\n",
       "        text-align: right;\n",
       "    }\n",
       "</style>\n",
       "<table border=\"1\" class=\"dataframe\">\n",
       "  <thead>\n",
       "    <tr style=\"text-align: right;\">\n",
       "      <th></th>\n",
       "      <th>gender</th>\n",
       "      <th>age</th>\n",
       "      <th>income</th>\n",
       "      <th>family_members</th>\n",
       "      <th>insurance_benefits</th>\n",
       "    </tr>\n",
       "  </thead>\n",
       "  <tbody>\n",
       "    <tr>\n",
       "      <th>count</th>\n",
       "      <td>5000.000000</td>\n",
       "      <td>5000.000000</td>\n",
       "      <td>5000.000000</td>\n",
       "      <td>5000.000000</td>\n",
       "      <td>5000.000000</td>\n",
       "    </tr>\n",
       "    <tr>\n",
       "      <th>mean</th>\n",
       "      <td>0.499000</td>\n",
       "      <td>30.952800</td>\n",
       "      <td>39916.360000</td>\n",
       "      <td>1.194200</td>\n",
       "      <td>0.148000</td>\n",
       "    </tr>\n",
       "    <tr>\n",
       "      <th>std</th>\n",
       "      <td>0.500049</td>\n",
       "      <td>8.440807</td>\n",
       "      <td>9900.083569</td>\n",
       "      <td>1.091387</td>\n",
       "      <td>0.463183</td>\n",
       "    </tr>\n",
       "    <tr>\n",
       "      <th>min</th>\n",
       "      <td>0.000000</td>\n",
       "      <td>18.000000</td>\n",
       "      <td>5300.000000</td>\n",
       "      <td>0.000000</td>\n",
       "      <td>0.000000</td>\n",
       "    </tr>\n",
       "    <tr>\n",
       "      <th>25%</th>\n",
       "      <td>0.000000</td>\n",
       "      <td>24.000000</td>\n",
       "      <td>33300.000000</td>\n",
       "      <td>0.000000</td>\n",
       "      <td>0.000000</td>\n",
       "    </tr>\n",
       "    <tr>\n",
       "      <th>50%</th>\n",
       "      <td>0.000000</td>\n",
       "      <td>30.000000</td>\n",
       "      <td>40200.000000</td>\n",
       "      <td>1.000000</td>\n",
       "      <td>0.000000</td>\n",
       "    </tr>\n",
       "    <tr>\n",
       "      <th>75%</th>\n",
       "      <td>1.000000</td>\n",
       "      <td>37.000000</td>\n",
       "      <td>46600.000000</td>\n",
       "      <td>2.000000</td>\n",
       "      <td>0.000000</td>\n",
       "    </tr>\n",
       "    <tr>\n",
       "      <th>max</th>\n",
       "      <td>1.000000</td>\n",
       "      <td>65.000000</td>\n",
       "      <td>79000.000000</td>\n",
       "      <td>6.000000</td>\n",
       "      <td>5.000000</td>\n",
       "    </tr>\n",
       "  </tbody>\n",
       "</table>\n",
       "</div>"
      ],
      "text/plain": [
       "            gender          age        income  family_members  \\\n",
       "count  5000.000000  5000.000000   5000.000000     5000.000000   \n",
       "mean      0.499000    30.952800  39916.360000        1.194200   \n",
       "std       0.500049     8.440807   9900.083569        1.091387   \n",
       "min       0.000000    18.000000   5300.000000        0.000000   \n",
       "25%       0.000000    24.000000  33300.000000        0.000000   \n",
       "50%       0.000000    30.000000  40200.000000        1.000000   \n",
       "75%       1.000000    37.000000  46600.000000        2.000000   \n",
       "max       1.000000    65.000000  79000.000000        6.000000   \n",
       "\n",
       "       insurance_benefits  \n",
       "count         5000.000000  \n",
       "mean             0.148000  \n",
       "std              0.463183  \n",
       "min              0.000000  \n",
       "25%              0.000000  \n",
       "50%              0.000000  \n",
       "75%              0.000000  \n",
       "max              5.000000  "
      ]
     },
     "execution_count": 10,
     "metadata": {},
     "output_type": "execute_result"
    }
   ],
   "source": [
    "df.describe()"
   ]
  },
  {
   "cell_type": "code",
   "execution_count": 11,
   "metadata": {},
   "outputs": [
    {
     "data": {
      "image/png": "[encoded data removed]",
      "text/plain": [
       "<Figure size 640x480 with 1 Axes>"
      ]
     },
     "metadata": {},
     "output_type": "display_data"
    }
   ],
   "source": [
    "#Revisión de outliers\n",
    "\n",
    "sns.boxplot(x=df['age'])\n",
    "   \n",
    "\n",
    "plt.show()"
   ]
  },
  {
   "cell_type": "code",
   "execution_count": 12,
   "metadata": {
    "scrolled": true
   },
   "outputs": [
    {
     "data": {
      "image/png": "[encoded data removed]",
      "text/plain": [
       "<Figure size 640x480 with 1 Axes>"
      ]
     },
     "metadata": {},
     "output_type": "display_data"
    }
   ],
   "source": [
    "#Revisión de outliers\n",
    "\n",
    "sns.boxplot(x=df['income'])\n",
    "   \n",
    "\n",
    "plt.show()"
   ]
  },
  {
   "cell_type": "code",
   "execution_count": 13,
   "metadata": {
    "scrolled": true
   },
   "outputs": [
    {
     "data": {
      "image/png": "[encoded data removed]",
      "text/plain": [
       "<Figure size 640x480 with 1 Axes>"
      ]
     },
     "metadata": {},
     "output_type": "display_data"
    }
   ],
   "source": [
    "#Revisión de outliers\n",
    "\n",
    "sns.boxplot(x=df['family_members'])\n",
    "   \n",
    "\n",
    "plt.show()"
   ]
  },
  {
   "cell_type": "code",
   "execution_count": 14,
   "metadata": {},
   "outputs": [
    {
     "data": {
      "image/png": "[encoded data removed]",
      "text/plain": [
       "<Figure size 640x480 with 1 Axes>"
      ]
     },
     "metadata": {},
     "output_type": "display_data"
    }
   ],
   "source": [
    "#Revisión de outliers\n",
    "\n",
    "sns.boxplot(x=df['insurance_benefits'])\n",
    "   \n",
    "\n",
    "plt.show()"
   ]
  },
  {
   "cell_type": "markdown",
   "metadata": {},
   "source": [
    "A nivel de revisión de estadística descriptiva y de outliers no se observan datos fuera de lo común"
   ]
  },
  {
   "cell_type": "markdown",
   "metadata": {},
   "source": [
    "<div class=\"alert alert-block alert-success\">\n",
    "<b>Comentario del revisor</b> <a class=\"tocSkip\"></a>\n",
    "\n",
    "Muy bien! Importaste de forma correcta las librerías y módulos, cambiaste el formato de los nombres y verificaste que no hubiera outliers inválidos en los datos.\n",
    "</div>"
   ]
  },
  {
   "cell_type": "markdown",
   "metadata": {},
   "source": [
    "## Análisis exploratorio de datos"
   ]
  },
  {
   "cell_type": "markdown",
   "metadata": {},
   "source": [
    "Vamos a comprobar rápidamente si existen determinados grupos de clientes observando el gráfico de pares."
   ]
  },
  {
   "cell_type": "code",
   "execution_count": 15,
   "metadata": {},
   "outputs": [
    {
     "data": {
      "image/png": "[encoded data removed]",
      "text/plain": [
       "<Figure size 1200x1200 with 30 Axes>"
      ]
     },
     "metadata": {},
     "output_type": "display_data"
    }
   ],
   "source": [
    "g = sns.pairplot(df, kind='hist')\n",
    "g.fig.set_size_inches(12, 12)"
   ]
  },
  {
   "cell_type": "markdown",
   "metadata": {},
   "source": [
    "De acuerdo, es un poco complicado detectar grupos obvios (clústeres) ya que es difícil combinar diversas variables simultáneamente (para analizar distribuciones multivariadas). Ahí es donde LA y ML pueden ser bastante útiles."
   ]
  },
  {
   "cell_type": "markdown",
   "metadata": {},
   "source": [
    "<div class=\"alert alert-block alert-success\">\n",
    "<b>Comentario del revisor</b> <a class=\"tocSkip\"></a>\n",
    "\n",
    "Excelente trabajo con el desarrollo de la gráfica de pares. \n",
    "</div>"
   ]
  },
  {
   "cell_type": "markdown",
   "metadata": {},
   "source": [
    "# Tarea 1. Clientes similares"
   ]
  },
  {
   "cell_type": "markdown",
   "metadata": {},
   "source": [
    "En el lenguaje de ML, es necesario desarrollar un procedimiento que devuelva los k vecinos más cercanos (objetos) para un objeto dado basándose en la distancia entre los objetos.\n",
    "Es posible que quieras revisar las siguientes lecciones (capítulo -> lección)- Distancia entre vectores -> Distancia euclidiana\n",
    "- Distancia entre vectores -> Distancia Manhattan\n",
    "\n",
    "Para resolver la tarea, podemos probar diferentes métricas de distancia."
   ]
  },
  {
   "cell_type": "markdown",
   "metadata": {},
   "source": [
    "Escribe una función que devuelva los k vecinos más cercanos para un $n^{th}$ objeto basándose en una métrica de distancia especificada. A la hora de realizar esta tarea no debe tenerse en cuenta el número de prestaciones de seguro recibidas.\n",
    "Puedes utilizar una implementación ya existente del algoritmo kNN de scikit-learn (consulta [el enlace](https://scikit-learn.org/stable/modules/generated/sklearn.neighbors.NearestNeighbors.html#sklearn.neighbors.NearestNeighbors)) o tu propia implementación.\n",
    "Pruébalo para cuatro combinaciones de dos casos- Escalado\n",
    "  - los datos no están escalados\n",
    "  - los datos se escalan con el escalador [MaxAbsScaler](https://scikit-learn.org/stable/modules/generated/sklearn.preprocessing.MaxAbsScaler.html)\n",
    "- Métricas de distancia\n",
    "  - Euclidiana\n",
    "  - Manhattan\n",
    "\n",
    "Responde a estas preguntas:- ¿El hecho de que los datos no estén escalados afecta al algoritmo kNN? Si es así, ¿cómo se manifiesta?- ¿Qué tan similares son los resultados al utilizar la métrica de distancia Manhattan (independientemente del escalado)?"
   ]
  },
  {
   "cell_type": "code",
   "execution_count": 16,
   "metadata": {},
   "outputs": [],
   "source": [
    "feature_names = ['gender', 'age', 'income', 'family_members']"
   ]
  },
  {
   "cell_type": "code",
   "execution_count": 17,
   "metadata": {},
   "outputs": [],
   "source": [
    "def get_knn(df, n, k, metric):\n",
    "    \n",
    "    \"\"\"\n",
    "    Devuelve los k vecinos más cercanos\n",
    "\n",
    "    :param df: DataFrame de pandas utilizado para encontrar objetos similares dentro del mismo lugar    :param n: número de objetos para los que se buscan los vecinos más cercanos    :param k: número de vecinos más cercanos a devolver\n",
    "    :param métrica: nombre de la métrica de distancia    \"\"\"\n",
    "\n",
    "    nbrs = NearestNeighbors(n_neighbors=k, metric=metric)\n",
    "    nbrs.fit(df[feature_names])# <tu código aquí> \n",
    "    \n",
    "    nbrs_distances, nbrs_indices = nbrs.kneighbors([df.iloc[n][feature_names]], k, return_distance=True)\n",
    "    \n",
    "    df_res = pd.concat([\n",
    "        df.iloc[nbrs_indices[0]], \n",
    "        pd.DataFrame(nbrs_distances.T, index=nbrs_indices[0], columns=['distance'])\n",
    "        ], axis=1)\n",
    "    \n",
    "    return df_res"
   ]
  },
  {
   "cell_type": "code",
   "execution_count": 18,
   "metadata": {},
   "outputs": [
    {
     "name": "stdout",
     "output_type": "stream",
     "text": [
      "Prueba de la función KNN con métrica Euclidiana\n",
      "\n",
      "Combinación 1\n",
      "\n",
      "      gender  age   income  family_members  insurance_benefits  distance\n",
      "0          1   41  49600.0               1                   0  0.000000\n",
      "2022       1   41  49600.0               0                   0  1.000000\n",
      "1225       0   42  49600.0               0                   1  1.732051\n",
      "\n",
      "Combinación 2\n",
      "\n",
      "      gender  age   income  family_members  insurance_benefits    distance\n",
      "2          0   29  21000.0               0                   0    0.000000\n",
      "4544       1   31  21000.0               1                   0    2.449490\n",
      "2031       0   30  20900.0               0                   0  100.005000\n",
      "1741       1   28  21100.0               0                   0  100.010000\n",
      "4805       0   28  21100.0               2                   0  100.024997\n",
      "\n",
      "Prueba de la función KNN con métrica Manhattan\n",
      "\n",
      "Combinación 1\n",
      "\n",
      "      gender  age   income  family_members  insurance_benefits  distance\n",
      "0          1   41  49600.0               1                   0       0.0\n",
      "2022       1   41  49600.0               0                   0       1.0\n",
      "1225       0   42  49600.0               0                   1       3.0\n",
      "\n",
      "Combinación 2\n",
      "\n",
      "      gender  age   income  family_members  insurance_benefits  distance\n",
      "2          0   29  21000.0               0                   0       0.0\n",
      "4544       1   31  21000.0               1                   0       4.0\n",
      "2031       0   30  20900.0               0                   0     101.0\n",
      "1741       1   28  21100.0               0                   0     102.0\n",
      "4805       0   28  21100.0               2                   0     103.0\n"
     ]
    }
   ],
   "source": [
    "# Llamar a la función get_knn para distancia euclidiana y manhattan, sin escalado\n",
    "\n",
    "print('Prueba de la función KNN con métrica Euclidiana')\n",
    "print()\n",
    "print('Combinación 1')\n",
    "print()\n",
    "result = get_knn(df, 0, 3, 'euclidean')\n",
    "print(result)\n",
    "print()\n",
    "print('Combinación 2')\n",
    "print()\n",
    "result = get_knn(df, 2, 5, 'euclidean')\n",
    "print(result)\n",
    "\n",
    "\n",
    "print()\n",
    "\n",
    "print('Prueba de la función KNN con métrica Manhattan')\n",
    "print()\n",
    "print('Combinación 1')\n",
    "print()\n",
    "result = get_knn(df, 0, 3, 'manhattan')\n",
    "print(result)\n",
    "print()\n",
    "print('Combinación 2')\n",
    "print()\n",
    "result = get_knn(df, 2, 5, 'manhattan')\n",
    "print(result)"
   ]
  },
  {
   "cell_type": "markdown",
   "metadata": {},
   "source": [
    "Escalar datos."
   ]
  },
  {
   "cell_type": "code",
   "execution_count": 19,
   "metadata": {},
   "outputs": [],
   "source": [
    "feature_names = ['gender', 'age', 'income', 'family_members']\n",
    "\n",
    "transformer_mas = sklearn.preprocessing.MaxAbsScaler().fit(df[feature_names].to_numpy())\n",
    "\n",
    "df_scaled = df.copy()\n",
    "df_scaled.loc[:, feature_names] = transformer_mas.transform(df[feature_names].to_numpy())"
   ]
  },
  {
   "cell_type": "code",
   "execution_count": 20,
   "metadata": {},
   "outputs": [
    {
     "data": {
      "text/html": [
       "<div>\n",
       "<style scoped>\n",
       "    .dataframe tbody tr th:only-of-type {\n",
       "        vertical-align: middle;\n",
       "    }\n",
       "\n",
       "    .dataframe tbody tr th {\n",
       "        vertical-align: top;\n",
       "    }\n",
       "\n",
       "    .dataframe thead th {\n",
       "        text-align: right;\n",
       "    }\n",
       "</style>\n",
       "<table border=\"1\" class=\"dataframe\">\n",
       "  <thead>\n",
       "    <tr style=\"text-align: right;\">\n",
       "      <th></th>\n",
       "      <th>gender</th>\n",
       "      <th>age</th>\n",
       "      <th>income</th>\n",
       "      <th>family_members</th>\n",
       "      <th>insurance_benefits</th>\n",
       "    </tr>\n",
       "  </thead>\n",
       "  <tbody>\n",
       "    <tr>\n",
       "      <th>3615</th>\n",
       "      <td>1.0</td>\n",
       "      <td>0.384615</td>\n",
       "      <td>0.512658</td>\n",
       "      <td>0.333333</td>\n",
       "      <td>0</td>\n",
       "    </tr>\n",
       "    <tr>\n",
       "      <th>2529</th>\n",
       "      <td>1.0</td>\n",
       "      <td>0.661538</td>\n",
       "      <td>0.462025</td>\n",
       "      <td>0.333333</td>\n",
       "      <td>1</td>\n",
       "    </tr>\n",
       "    <tr>\n",
       "      <th>3595</th>\n",
       "      <td>1.0</td>\n",
       "      <td>0.538462</td>\n",
       "      <td>0.535443</td>\n",
       "      <td>0.000000</td>\n",
       "      <td>0</td>\n",
       "    </tr>\n",
       "    <tr>\n",
       "      <th>2029</th>\n",
       "      <td>0.0</td>\n",
       "      <td>0.369231</td>\n",
       "      <td>0.453165</td>\n",
       "      <td>0.666667</td>\n",
       "      <td>0</td>\n",
       "    </tr>\n",
       "    <tr>\n",
       "      <th>1459</th>\n",
       "      <td>1.0</td>\n",
       "      <td>0.415385</td>\n",
       "      <td>0.502532</td>\n",
       "      <td>0.500000</td>\n",
       "      <td>0</td>\n",
       "    </tr>\n",
       "  </tbody>\n",
       "</table>\n",
       "</div>"
      ],
      "text/plain": [
       "      gender       age    income  family_members  insurance_benefits\n",
       "3615     1.0  0.384615  0.512658        0.333333                   0\n",
       "2529     1.0  0.661538  0.462025        0.333333                   1\n",
       "3595     1.0  0.538462  0.535443        0.000000                   0\n",
       "2029     0.0  0.369231  0.453165        0.666667                   0\n",
       "1459     1.0  0.415385  0.502532        0.500000                   0"
      ]
     },
     "execution_count": 20,
     "metadata": {},
     "output_type": "execute_result"
    }
   ],
   "source": [
    "df_scaled.sample(5)"
   ]
  },
  {
   "cell_type": "markdown",
   "metadata": {},
   "source": [
    "Ahora, vamos a obtener registros similares para uno determinado, para cada combinación"
   ]
  },
  {
   "cell_type": "code",
   "execution_count": 21,
   "metadata": {},
   "outputs": [
    {
     "name": "stdout",
     "output_type": "stream",
     "text": [
      "Prueba de la función KNN con métrica Euclidiana escalada\n",
      "\n",
      "Combinación 1\n",
      "\n",
      "      gender       age    income  family_members  insurance_benefits  distance\n",
      "0        1.0  0.630769  0.627848        0.166667                   0  0.000000\n",
      "2689     1.0  0.630769  0.634177        0.166667                   0  0.006329\n",
      "133      1.0  0.615385  0.636709        0.166667                   0  0.017754\n"
     ]
    }
   ],
   "source": [
    "# Llamar a la función get_knn para distancia euclidiana y manhattan, escalado\n",
    "\n",
    "print('Prueba de la función KNN con métrica Euclidiana escalada')\n",
    "print()\n",
    "print('Combinación 1')\n",
    "print()\n",
    "result = get_knn(df_scaled, 0, 3, 'euclidean')\n",
    "print(result)\n",
    "\n",
    "\n"
   ]
  },
  {
   "cell_type": "code",
   "execution_count": 22,
   "metadata": {},
   "outputs": [
    {
     "name": "stdout",
     "output_type": "stream",
     "text": [
      "\n",
      "Prueba de la función KNN con métrica Manhattan escalada\n",
      "\n",
      "Combinación 1\n",
      "\n",
      "      gender       age    income  family_members  insurance_benefits  distance\n",
      "0        1.0  0.630769  0.627848        0.166667                   0  0.000000\n",
      "2689     1.0  0.630769  0.634177        0.166667                   0  0.006329\n",
      "133      1.0  0.615385  0.636709        0.166667                   0  0.024245\n"
     ]
    }
   ],
   "source": [
    "print()\n",
    "\n",
    "print('Prueba de la función KNN con métrica Manhattan escalada')\n",
    "print()\n",
    "print('Combinación 1')\n",
    "print()\n",
    "result = get_knn(df_scaled, 0, 3, 'manhattan')\n",
    "print(result)"
   ]
  },
  {
   "cell_type": "markdown",
   "metadata": {},
   "source": [
    "Respuestas a las preguntas"
   ]
  },
  {
   "cell_type": "markdown",
   "metadata": {},
   "source": [
    "**¿El hecho de que los datos no estén escalados afecta al algoritmo kNN? Si es así, ¿cómo se manifiesta?** \n",
    "\n",
    "Que los datos no estén escalados, definitivamente afecta al algoritmo KNN, consecuencia de esto, se pueden tener resultados sesgados ya que las características con las escalas más grandes tienen una influencia desproporcionada en la determinación de los vecinos."
   ]
  },
  {
   "cell_type": "markdown",
   "metadata": {},
   "source": [
    "**¿Qué tan similares son los resultados al utilizar la métrica de distancia Manhattan (independientemente del escalado)?** \n",
    "\n",
    "Los resultados son cercanos entre si pero definitivamente difieren en sus distancias por la forma en que se calcula cada métrica, en la práctica esto podría influir en los resultados y en la interpretación de los datos del análisis."
   ]
  },
  {
   "cell_type": "markdown",
   "metadata": {},
   "source": [
    "<div class=\"alert alert-block alert-success\">\n",
    "<b>Comentario del revisor</b> <a class=\"tocSkip\"></a>\n",
    "\n",
    "Bien implementado el modelo. Como acabas de notar, el escalado es muy importante debido a que permite que variables numéricas con rangos muy diferentes sean comparables. Sin escalar los datos las características con valores más grandes pueden dominar las métricas de distancia y no obtener resultados precisos.\n",
    "</div>"
   ]
  },
  {
   "cell_type": "markdown",
   "metadata": {},
   "source": [
    "# Tarea 2. ¿Es probable que el cliente reciba una prestación del seguro?"
   ]
  },
  {
   "cell_type": "markdown",
   "metadata": {},
   "source": [
    "En términos de machine learning podemos considerarlo como una tarea de clasificación binaria."
   ]
  },
  {
   "cell_type": "markdown",
   "metadata": {},
   "source": [
    "Con el valor de `insurance_benefits` superior a cero como objetivo, evalúa si el enfoque de clasificación kNN puede funcionar mejor que el modelo dummy.\n",
    "Instrucciones:\n",
    "- Construye un clasificador basado en KNN y mide su calidad con la métrica F1 para k=1...10 tanto para los datos originales como para los escalados. Sería interesante observar cómo k puede influir en la métrica de evaluación y si el escalado de los datos provoca alguna diferencia. Puedes utilizar una implementación ya existente del algoritmo de clasificación kNN de scikit-learn (consulta [el enlace](https://scikit-learn.org/stable/modules/generated/sklearn.neighbors.KNeighborsClassifier.html)) o tu propia implementación.- Construye un modelo dummy que, en este caso, es simplemente un modelo aleatorio. Debería devolver \"1\" con cierta probabilidad. Probemos el modelo con cuatro valores de probabilidad: 0, la probabilidad de pagar cualquier prestación del seguro, 0.5, 1.\n",
    "La probabilidad de pagar cualquier prestación del seguro puede definirse como\n",
    "$$\n",
    "P\\{\\text{prestación de seguro recibida}\\}=\\frac{\\text{número de clientes que han recibido alguna prestación de seguro}}{\\text{número total de clientes}}.\n",
    "$$\n",
    "\n",
    "Divide todos los datos correspondientes a las etapas de entrenamiento/prueba respetando la proporción 70:30."
   ]
  },
  {
   "cell_type": "code",
   "execution_count": 23,
   "metadata": {},
   "outputs": [],
   "source": [
    "# сalcula el objetivo\n",
    "df['insurance_benefits_received'] = df['insurance_benefits'] > 0#<tu código aquí>"
   ]
  },
  {
   "cell_type": "code",
   "execution_count": 24,
   "metadata": {},
   "outputs": [
    {
     "data": {
      "text/html": [
       "<div>\n",
       "<style scoped>\n",
       "    .dataframe tbody tr th:only-of-type {\n",
       "        vertical-align: middle;\n",
       "    }\n",
       "\n",
       "    .dataframe tbody tr th {\n",
       "        vertical-align: top;\n",
       "    }\n",
       "\n",
       "    .dataframe thead th {\n",
       "        text-align: right;\n",
       "    }\n",
       "</style>\n",
       "<table border=\"1\" class=\"dataframe\">\n",
       "  <thead>\n",
       "    <tr style=\"text-align: right;\">\n",
       "      <th></th>\n",
       "      <th>gender</th>\n",
       "      <th>age</th>\n",
       "      <th>income</th>\n",
       "      <th>family_members</th>\n",
       "      <th>insurance_benefits</th>\n",
       "      <th>insurance_benefits_received</th>\n",
       "    </tr>\n",
       "  </thead>\n",
       "  <tbody>\n",
       "    <tr>\n",
       "      <th>0</th>\n",
       "      <td>1</td>\n",
       "      <td>41</td>\n",
       "      <td>49600.0</td>\n",
       "      <td>1</td>\n",
       "      <td>0</td>\n",
       "      <td>False</td>\n",
       "    </tr>\n",
       "    <tr>\n",
       "      <th>1</th>\n",
       "      <td>0</td>\n",
       "      <td>46</td>\n",
       "      <td>38000.0</td>\n",
       "      <td>1</td>\n",
       "      <td>1</td>\n",
       "      <td>True</td>\n",
       "    </tr>\n",
       "    <tr>\n",
       "      <th>2</th>\n",
       "      <td>0</td>\n",
       "      <td>29</td>\n",
       "      <td>21000.0</td>\n",
       "      <td>0</td>\n",
       "      <td>0</td>\n",
       "      <td>False</td>\n",
       "    </tr>\n",
       "    <tr>\n",
       "      <th>3</th>\n",
       "      <td>0</td>\n",
       "      <td>21</td>\n",
       "      <td>41700.0</td>\n",
       "      <td>2</td>\n",
       "      <td>0</td>\n",
       "      <td>False</td>\n",
       "    </tr>\n",
       "    <tr>\n",
       "      <th>4</th>\n",
       "      <td>1</td>\n",
       "      <td>28</td>\n",
       "      <td>26100.0</td>\n",
       "      <td>0</td>\n",
       "      <td>0</td>\n",
       "      <td>False</td>\n",
       "    </tr>\n",
       "    <tr>\n",
       "      <th>...</th>\n",
       "      <td>...</td>\n",
       "      <td>...</td>\n",
       "      <td>...</td>\n",
       "      <td>...</td>\n",
       "      <td>...</td>\n",
       "      <td>...</td>\n",
       "    </tr>\n",
       "    <tr>\n",
       "      <th>4995</th>\n",
       "      <td>0</td>\n",
       "      <td>28</td>\n",
       "      <td>35700.0</td>\n",
       "      <td>2</td>\n",
       "      <td>0</td>\n",
       "      <td>False</td>\n",
       "    </tr>\n",
       "    <tr>\n",
       "      <th>4996</th>\n",
       "      <td>0</td>\n",
       "      <td>34</td>\n",
       "      <td>52400.0</td>\n",
       "      <td>1</td>\n",
       "      <td>0</td>\n",
       "      <td>False</td>\n",
       "    </tr>\n",
       "    <tr>\n",
       "      <th>4997</th>\n",
       "      <td>0</td>\n",
       "      <td>20</td>\n",
       "      <td>33900.0</td>\n",
       "      <td>2</td>\n",
       "      <td>0</td>\n",
       "      <td>False</td>\n",
       "    </tr>\n",
       "    <tr>\n",
       "      <th>4998</th>\n",
       "      <td>1</td>\n",
       "      <td>22</td>\n",
       "      <td>32700.0</td>\n",
       "      <td>3</td>\n",
       "      <td>0</td>\n",
       "      <td>False</td>\n",
       "    </tr>\n",
       "    <tr>\n",
       "      <th>4999</th>\n",
       "      <td>1</td>\n",
       "      <td>28</td>\n",
       "      <td>40600.0</td>\n",
       "      <td>1</td>\n",
       "      <td>0</td>\n",
       "      <td>False</td>\n",
       "    </tr>\n",
       "  </tbody>\n",
       "</table>\n",
       "<p>5000 rows × 6 columns</p>\n",
       "</div>"
      ],
      "text/plain": [
       "      gender  age   income  family_members  insurance_benefits  \\\n",
       "0          1   41  49600.0               1                   0   \n",
       "1          0   46  38000.0               1                   1   \n",
       "2          0   29  21000.0               0                   0   \n",
       "3          0   21  41700.0               2                   0   \n",
       "4          1   28  26100.0               0                   0   \n",
       "...      ...  ...      ...             ...                 ...   \n",
       "4995       0   28  35700.0               2                   0   \n",
       "4996       0   34  52400.0               1                   0   \n",
       "4997       0   20  33900.0               2                   0   \n",
       "4998       1   22  32700.0               3                   0   \n",
       "4999       1   28  40600.0               1                   0   \n",
       "\n",
       "      insurance_benefits_received  \n",
       "0                           False  \n",
       "1                            True  \n",
       "2                           False  \n",
       "3                           False  \n",
       "4                           False  \n",
       "...                           ...  \n",
       "4995                        False  \n",
       "4996                        False  \n",
       "4997                        False  \n",
       "4998                        False  \n",
       "4999                        False  \n",
       "\n",
       "[5000 rows x 6 columns]"
      ]
     },
     "execution_count": 24,
     "metadata": {},
     "output_type": "execute_result"
    }
   ],
   "source": [
    "df"
   ]
  },
  {
   "cell_type": "code",
   "execution_count": 25,
   "metadata": {},
   "outputs": [
    {
     "data": {
      "text/plain": [
       "False    4436\n",
       "True      564\n",
       "Name: insurance_benefits_received, dtype: int64"
      ]
     },
     "execution_count": 25,
     "metadata": {},
     "output_type": "execute_result"
    }
   ],
   "source": [
    "# comprueba el desequilibrio de clases con value_counts()\n",
    "\n",
    "df['insurance_benefits_received'].value_counts()\n",
    "\n",
    "# <tu código aquí>"
   ]
  },
  {
   "cell_type": "markdown",
   "metadata": {},
   "source": [
    "Se puede observar claramente que las personas que no han sido beneficiarias de seguro son mayoria y son menos del 1% del total de asegurados"
   ]
  },
  {
   "cell_type": "code",
   "execution_count": 26,
   "metadata": {},
   "outputs": [],
   "source": [
    "def eval_classifier(y_true, y_pred):\n",
    "    \n",
    "    f1_score = sklearn.metrics.f1_score(y_true, y_pred)\n",
    "    print(f'F1: {f1_score:.2f}')\n",
    "    \n",
    "# si tienes algún problema con la siguiente línea, reinicia el kernel y ejecuta el cuaderno de nuevo    cm = sklearn.metrics.confusion_matrix(y_true, y_pred, normalize='all')\n",
    "    print('Matriz de confusión')\n",
    "    print(sklearn.metrics.confusion_matrix(y_true, y_pred, normalize='all'))"
   ]
  },
  {
   "cell_type": "code",
   "execution_count": 27,
   "metadata": {},
   "outputs": [],
   "source": [
    "# generar la salida de un modelo aleatorio\n",
    "\n",
    "def rnd_model_predict(P, size, seed=42):\n",
    "\n",
    "    rng = np.random.default_rng(seed=seed)\n",
    "    return rng.binomial(n=1, p=P, size=size)"
   ]
  },
  {
   "cell_type": "code",
   "execution_count": 28,
   "metadata": {},
   "outputs": [
    {
     "name": "stdout",
     "output_type": "stream",
     "text": [
      "La probabilidad: 0.00\n",
      "F1: 0.00\n",
      "Matriz de confusión\n",
      "[[0.8872 0.    ]\n",
      " [0.1128 0.    ]]\n",
      "\n",
      "La probabilidad: 0.11\n",
      "F1: 0.12\n",
      "Matriz de confusión\n",
      "[[0.7914 0.0958]\n",
      " [0.0994 0.0134]]\n",
      "\n",
      "La probabilidad: 0.50\n",
      "F1: 0.20\n",
      "Matriz de confusión\n",
      "[[0.456  0.4312]\n",
      " [0.053  0.0598]]\n",
      "\n",
      "La probabilidad: 1.00\n",
      "F1: 0.20\n",
      "Matriz de confusión\n",
      "[[0.     0.8872]\n",
      " [0.     0.1128]]\n",
      "\n"
     ]
    }
   ],
   "source": [
    "for P in [0, df['insurance_benefits_received'].sum() / len(df), 0.5, 1]:\n",
    "\n",
    "    print(f'La probabilidad: {P:.2f}')\n",
    "    y_pred_rnd = rnd_model_predict(P,len(df['insurance_benefits_received']))# <tu código aquí> \n",
    "        \n",
    "    eval_classifier(df['insurance_benefits_received'], y_pred_rnd)\n",
    "    \n",
    "    print()"
   ]
  },
  {
   "cell_type": "code",
   "execution_count": 29,
   "metadata": {},
   "outputs": [],
   "source": [
    "def kclass(x_train, y_train,x_test,y_test, k, metric_to_use):\n",
    "    \n",
    "    \"\"\"\n",
    "    Devuelve los k vecinos más cercanos\n",
    "\n",
    "    :param x_train: datos caracteristicas de entrenamiento\n",
    "    :param y_train: datos objetivo entrenamiento\n",
    "    :param x_test: datos caracteristicas de prueba\n",
    "    :param y_test: datos prueba objetivo\n",
    "    :param k: número de vecinos más cercanos a devolver\n",
    "    :param metric_to_use: nombre de la métrica de distancia: ‘euclidean’,‘manhattan’   \"\"\"\n",
    "\n",
    "    k_class = sklearn.neighbors.KNeighborsClassifier(n_neighbors=k, metric=metric_to_use)\n",
    "    k_class.fit(x_train.values,y_train.values)\n",
    "    y_pred = k_class.predict(x_test)\n",
    "    \n",
    "    print(eval_classifier(y_test,y_pred))\n",
    "    print()\n",
    "    print(sklearn.metrics.classification_report(y_test,y_pred))"
   ]
  },
  {
   "cell_type": "code",
   "execution_count": 30,
   "metadata": {},
   "outputs": [],
   "source": [
    "#Ejercicio sin escalado\n",
    "\n",
    "x_train, x_test, y_train, y_test = train_test_split(df[feature_names],df['insurance_benefits_received'],test_size = 0.30,random_state=54321)"
   ]
  },
  {
   "cell_type": "code",
   "execution_count": 31,
   "metadata": {
    "scrolled": true
   },
   "outputs": [
    {
     "name": "stdout",
     "output_type": "stream",
     "text": [
      "F1: 0.01\n",
      "Matriz de confusión\n",
      "[[8.92000000e-01 0.00000000e+00]\n",
      " [1.07333333e-01 6.66666667e-04]]\n",
      "None\n",
      "\n",
      "              precision    recall  f1-score   support\n",
      "\n",
      "       False       0.89      1.00      0.94      1338\n",
      "        True       1.00      0.01      0.01       162\n",
      "\n",
      "    accuracy                           0.89      1500\n",
      "   macro avg       0.95      0.50      0.48      1500\n",
      "weighted avg       0.90      0.89      0.84      1500\n",
      "\n"
     ]
    }
   ],
   "source": [
    "kclass(x_train, y_train, x_test, y_test,8, 'euclidean')"
   ]
  },
  {
   "cell_type": "code",
   "execution_count": 32,
   "metadata": {
    "scrolled": true
   },
   "outputs": [
    {
     "name": "stdout",
     "output_type": "stream",
     "text": [
      "F1: 0.01\n",
      "Matriz de confusión\n",
      "[[8.92000000e-01 0.00000000e+00]\n",
      " [1.07333333e-01 6.66666667e-04]]\n",
      "None\n",
      "\n",
      "              precision    recall  f1-score   support\n",
      "\n",
      "       False       0.89      1.00      0.94      1338\n",
      "        True       1.00      0.01      0.01       162\n",
      "\n",
      "    accuracy                           0.89      1500\n",
      "   macro avg       0.95      0.50      0.48      1500\n",
      "weighted avg       0.90      0.89      0.84      1500\n",
      "\n"
     ]
    }
   ],
   "source": [
    "kclass(x_train, y_train, x_test, y_test,8, 'manhattan')"
   ]
  },
  {
   "cell_type": "code",
   "execution_count": 33,
   "metadata": {},
   "outputs": [],
   "source": [
    "#Se realiza el ejercicio con el DF escalado\n",
    "\n",
    "x_train, x_test, y_train, y_test = train_test_split(df_scaled[feature_names],df['insurance_benefits_received'],test_size = 0.33,random_state=92)"
   ]
  },
  {
   "cell_type": "code",
   "execution_count": 34,
   "metadata": {},
   "outputs": [
    {
     "name": "stdout",
     "output_type": "stream",
     "text": [
      "F1: 0.88\n",
      "Matriz de confusión\n",
      "[[0.89454545 0.00242424]\n",
      " [0.01939394 0.08363636]]\n",
      "None\n",
      "\n",
      "              precision    recall  f1-score   support\n",
      "\n",
      "       False       0.98      1.00      0.99      1480\n",
      "        True       0.97      0.81      0.88       170\n",
      "\n",
      "    accuracy                           0.98      1650\n",
      "   macro avg       0.98      0.90      0.94      1650\n",
      "weighted avg       0.98      0.98      0.98      1650\n",
      "\n"
     ]
    }
   ],
   "source": [
    "kclass(x_train, y_train, x_test, y_test,8, 'euclidean')"
   ]
  },
  {
   "cell_type": "code",
   "execution_count": 35,
   "metadata": {
    "scrolled": true
   },
   "outputs": [
    {
     "name": "stdout",
     "output_type": "stream",
     "text": [
      "F1: 0.89\n",
      "Matriz de confusión\n",
      "[[0.89515152 0.00181818]\n",
      " [0.01818182 0.08484848]]\n",
      "None\n",
      "\n",
      "              precision    recall  f1-score   support\n",
      "\n",
      "       False       0.98      1.00      0.99      1480\n",
      "        True       0.98      0.82      0.89       170\n",
      "\n",
      "    accuracy                           0.98      1650\n",
      "   macro avg       0.98      0.91      0.94      1650\n",
      "weighted avg       0.98      0.98      0.98      1650\n",
      "\n"
     ]
    }
   ],
   "source": [
    "kclass(x_train, y_train, x_test, y_test,8, 'manhattan')"
   ]
  },
  {
   "cell_type": "markdown",
   "metadata": {},
   "source": [
    "Los resultados del ejercicio indican nuevamente que el escalado de los datos entregan mejores resultados, mostrando la que la la métrica f1 ha aumentando considerablemente y los falsos negativos han disminuido también."
   ]
  },
  {
   "cell_type": "markdown",
   "metadata": {},
   "source": [
    "<div class=\"alert alert-block alert-success\">\n",
    "<b>Comentario del revisor</b> <a class=\"tocSkip\"></a>\n",
    "\n",
    "Excelente! Como pudiste observar el F1 usando el clasificador basado en KNN es mucho mayor que el del modelo aleatorio. Además, usando datos escalados el F1 aumenta todavía más, ya que evitar que el efecto de las variables con valores más grandes dominen sobre aquellas con valores más pequeños.\n",
    "</div>"
   ]
  },
  {
   "cell_type": "markdown",
   "metadata": {},
   "source": [
    "# Tarea 3. Regresión (con regresión lineal)"
   ]
  },
  {
   "cell_type": "markdown",
   "metadata": {},
   "source": [
    "Con `insurance_benefits` como objetivo, evalúa cuál sería la RECM de un modelo de regresión lineal."
   ]
  },
  {
   "cell_type": "markdown",
   "metadata": {},
   "source": [
    "Construye tu propia implementación de regresión lineal. Para ello, recuerda cómo está formulada la solución de la tarea de regresión lineal en términos de LA. Comprueba la RECM tanto para los datos originales como para los escalados. ¿Puedes ver alguna diferencia en la RECM con respecto a estos dos casos?\n",
    "\n",
    "Denotemos- $X$: matriz de características; cada fila es un caso, cada columna es una característica, la primera columna está formada por unidades- $y$ — objetivo (un vector)- $\\hat{y}$ — objetivo estimado (un vector)- $w$ — vector de pesos\n",
    "La tarea de regresión lineal en el lenguaje de las matrices puede formularse así:\n",
    "$$\n",
    "y = Xw\n",
    "$$\n",
    "\n",
    "El objetivo de entrenamiento es entonces encontrar esa $w$ w que minimice la distancia L2 (ECM) entre $Xw$ y $y$:\n",
    "\n",
    "$$\n",
    "\\min_w d_2(Xw, y) \\quad \\text{or} \\quad \\min_w \\text{MSE}(Xw, y)\n",
    "$$\n",
    "\n",
    "Parece que hay una solución analítica para lo anteriormente expuesto:\n",
    "$$\n",
    "w = (X^T X)^{-1} X^T y\n",
    "$$\n",
    "\n",
    "La fórmula anterior puede servir para encontrar los pesos $w$ y estos últimos pueden utilizarse para calcular los valores predichos\n",
    "$$\n",
    "\\hat{y} = X_{val}w\n",
    "$$"
   ]
  },
  {
   "cell_type": "markdown",
   "metadata": {},
   "source": [
    "Divide todos los datos correspondientes a las etapas de entrenamiento/prueba respetando la proporción 70:30. Utiliza la métrica RECM para evaluar el modelo."
   ]
  },
  {
   "cell_type": "code",
   "execution_count": 36,
   "metadata": {},
   "outputs": [],
   "source": [
    "class MyLinearRegression:\n",
    "    \n",
    "    def __init__(self):\n",
    "        \n",
    "        self.weights = None\n",
    "    \n",
    "    def fit(self, X, y):\n",
    "        \n",
    "        # añadir las unidades\n",
    "        X2 = np.append(np.ones([len(X), 1]), X, axis=1)\n",
    "        self.weights = np.linalg.inv(X2.T @ X2) @ X2.T @ y# <tu código aquí>\n",
    "\n",
    "    def predict(self, X):\n",
    "        \n",
    "        # añadir las unidades\n",
    "        X2 = np.concatenate((np.ones((X.shape[0], 1)), X), axis=1)# <tu código aquí>\n",
    "        y_pred = X2 @ self.weights# <tu código aquí>\n",
    "        \n",
    "        return y_pred"
   ]
  },
  {
   "cell_type": "code",
   "execution_count": 37,
   "metadata": {},
   "outputs": [],
   "source": [
    "def eval_regressor(y_true, y_pred):\n",
    "    \n",
    "    rmse = math.sqrt(sklearn.metrics.mean_squared_error(y_true, y_pred))\n",
    "    print(f'RMSE: {rmse:.2f}')\n",
    "    \n",
    "    r2_score = math.sqrt(sklearn.metrics.r2_score(y_true, y_pred))\n",
    "    print(f'R2: {r2_score:.2f}')    "
   ]
  },
  {
   "cell_type": "code",
   "execution_count": 38,
   "metadata": {},
   "outputs": [
    {
     "name": "stdout",
     "output_type": "stream",
     "text": [
      "[-9.43539012e-01  3.57495491e-02  1.64272726e-02 -2.60743659e-07\n",
      " -1.16902127e-02]\n",
      "RMSE: 0.34\n",
      "R2: 0.66\n"
     ]
    }
   ],
   "source": [
    "X = df[['age', 'gender', 'income', 'family_members']].to_numpy()\n",
    "y = df['insurance_benefits'].to_numpy()\n",
    "\n",
    "X_train, X_test, y_train, y_test = train_test_split(X, y, test_size=0.3, random_state=12345)\n",
    "\n",
    "lr = MyLinearRegression()\n",
    "\n",
    "lr.fit(X_train, y_train)\n",
    "print(lr.weights)\n",
    "\n",
    "y_test_pred = lr.predict(X_test)\n",
    "eval_regressor(y_test, y_test_pred)"
   ]
  },
  {
   "cell_type": "code",
   "execution_count": 39,
   "metadata": {},
   "outputs": [],
   "source": [
    "#Se realiza el ejercicio con datos escalados\n",
    "\n",
    "X = df_scaled[['age', 'gender', 'income', 'family_members']].to_numpy()\n",
    "y = df['insurance_benefits'].to_numpy()\n",
    "\n",
    "X_train, X_test, y_train, y_test = train_test_split(X, y, test_size=0.3, random_state=12345)"
   ]
  },
  {
   "cell_type": "code",
   "execution_count": 40,
   "metadata": {},
   "outputs": [
    {
     "name": "stdout",
     "output_type": "stream",
     "text": [
      "[-0.94353901  2.32372069  0.01642727 -0.02059875 -0.07014128]\n",
      "RMSE: 0.34\n",
      "R2: 0.66\n"
     ]
    }
   ],
   "source": [
    "lr = MyLinearRegression()\n",
    "\n",
    "lr.fit(X_train, y_train)\n",
    "print(lr.weights)\n",
    "\n",
    "y_test_pred = lr.predict(X_test)\n",
    "eval_regressor(y_test, y_test_pred)"
   ]
  },
  {
   "cell_type": "markdown",
   "metadata": {},
   "source": [
    "<div class=\"alert alert-block alert-success\">\n",
    "<b>Comentario del revisor</b> <a class=\"tocSkip\"></a>\n",
    "\n",
    "Buen trabajo implementando el modelo de regresión lineal tanto para los datos originales como los escalados. Como pudiste notar, el usar un conjunto u otro no afecta a los resultados obtenidos por el modelo, cuál sería tu interpretación de este hecho?\n",
    "</div>"
   ]
  },
  {
   "cell_type": "markdown",
   "metadata": {},
   "source": [
    "# Tarea 4. Ofuscar datos"
   ]
  },
  {
   "cell_type": "markdown",
   "metadata": {},
   "source": [
    "Lo mejor es ofuscar los datos multiplicando las características numéricas (recuerda que se pueden ver como la matriz $X$) por una matriz invertible $P$. \n",
    "\n",
    "$$\n",
    "X' = X \\times P\n",
    "$$\n",
    "\n",
    "Trata de hacerlo y comprueba cómo quedarán los valores de las características después de la transformación. Por cierto, la propiedad de invertibilidad es importante aquí, así que asegúrate de que $P$ sea realmente invertible.\n",
    "\n",
    "Puedes revisar la lección 'Matrices y operaciones matriciales -> Multiplicación de matrices' para recordar la regla de multiplicación de matrices y su implementación con NumPy."
   ]
  },
  {
   "cell_type": "code",
   "execution_count": 41,
   "metadata": {},
   "outputs": [],
   "source": [
    "personal_info_column_list = ['gender', 'age', 'income', 'family_members']\n",
    "df_pn = df[personal_info_column_list]"
   ]
  },
  {
   "cell_type": "code",
   "execution_count": 42,
   "metadata": {},
   "outputs": [
    {
     "data": {
      "text/plain": [
       "array([[1.00e+00, 4.10e+01, 4.96e+04, 1.00e+00],\n",
       "       [0.00e+00, 4.60e+01, 3.80e+04, 1.00e+00],\n",
       "       [0.00e+00, 2.90e+01, 2.10e+04, 0.00e+00],\n",
       "       ...,\n",
       "       [0.00e+00, 2.00e+01, 3.39e+04, 2.00e+00],\n",
       "       [1.00e+00, 2.20e+01, 3.27e+04, 3.00e+00],\n",
       "       [1.00e+00, 2.80e+01, 4.06e+04, 1.00e+00]])"
      ]
     },
     "execution_count": 42,
     "metadata": {},
     "output_type": "execute_result"
    }
   ],
   "source": [
    "X = df_pn.to_numpy()\n",
    "X"
   ]
  },
  {
   "cell_type": "markdown",
   "metadata": {},
   "source": [
    "Generar una matriz aleatoria $P$."
   ]
  },
  {
   "cell_type": "code",
   "execution_count": 43,
   "metadata": {},
   "outputs": [
    {
     "data": {
      "text/plain": [
       "array([[0.77395605, 0.43887844, 0.85859792, 0.69736803],\n",
       "       [0.09417735, 0.97562235, 0.7611397 , 0.78606431],\n",
       "       [0.12811363, 0.45038594, 0.37079802, 0.92676499],\n",
       "       [0.64386512, 0.82276161, 0.4434142 , 0.22723872]])"
      ]
     },
     "execution_count": 43,
     "metadata": {},
     "output_type": "execute_result"
    }
   ],
   "source": [
    "rng = np.random.default_rng(seed=42)\n",
    "P = rng.random(size=(X.shape[1], X.shape[1]))\n",
    "P"
   ]
  },
  {
   "cell_type": "markdown",
   "metadata": {},
   "source": [
    "Comprobar que la matriz P sea invertible"
   ]
  },
  {
   "cell_type": "code",
   "execution_count": 44,
   "metadata": {},
   "outputs": [
    {
     "name": "stdout",
     "output_type": "stream",
     "text": [
      "La matriz P es invertible.\n"
     ]
    }
   ],
   "source": [
    "# Determina si la matriz P es invertible\n",
    "\n",
    "det = np.linalg.det(P)\n",
    "\n",
    "if det != 0:\n",
    "    print(\"La matriz P es invertible.\")\n",
    "else:\n",
    "    print(\"La matriz P NO es invertible.\")"
   ]
  },
  {
   "cell_type": "markdown",
   "metadata": {},
   "source": [
    "¿Puedes adivinar la edad o los ingresos de los clientes después de la transformación?"
   ]
  },
  {
   "cell_type": "code",
   "execution_count": 45,
   "metadata": {},
   "outputs": [
    {
     "data": {
      "text/plain": [
       "array([[ 6359.71527314, 22380.40467609, 18424.09074184, 46000.69669016],\n",
       "       [ 4873.29406479, 17160.36702982, 14125.78076133, 35253.45577301],\n",
       "       [ 2693.11742928,  9486.397744  ,  7808.83156024, 19484.86063067],\n",
       "       ...,\n",
       "       [ 4346.2234249 , 15289.24126492, 12586.16264392, 31433.50888552],\n",
       "       [ 4194.09324155, 14751.9910242 , 12144.02930637, 30323.88763426],\n",
       "       [ 5205.46827354, 18314.24814446, 15077.01370762, 37649.59295455]])"
      ]
     },
     "execution_count": 45,
     "metadata": {},
     "output_type": "execute_result"
    }
   ],
   "source": [
    "X2 = X @ P\n",
    "X2"
   ]
  },
  {
   "cell_type": "markdown",
   "metadata": {},
   "source": [
    "A simple vista no sería fácil la recuperación de los datos de los usuarios, pero conociendo la matriz P sería posible"
   ]
  },
  {
   "cell_type": "markdown",
   "metadata": {},
   "source": [
    "¿Puedes recuperar los datos originales de $X'$ si conoces $P$? Intenta comprobarlo a través de los cálculos moviendo $P$ del lado derecho de la fórmula anterior al izquierdo. En este caso las reglas de la multiplicación matricial son realmente útiles"
   ]
  },
  {
   "cell_type": "code",
   "execution_count": 47,
   "metadata": {},
   "outputs": [
    {
     "name": "stdout",
     "output_type": "stream",
     "text": [
      "[[ 1.00000000e+00  4.10000000e+01  4.96000000e+04  1.00000000e+00]\n",
      " [-4.47363596e-12  4.60000000e+01  3.80000000e+04  1.00000000e+00]\n",
      " [-2.51586878e-12  2.90000000e+01  2.10000000e+04  9.52452315e-13]\n",
      " ...\n",
      " [-1.92837871e-12  2.00000000e+01  3.39000000e+04  2.00000000e+00]\n",
      " [ 1.00000000e+00  2.20000000e+01  3.27000000e+04  3.00000000e+00]\n",
      " [ 1.00000000e+00  2.80000000e+01  4.06000000e+04  1.00000000e+00]]\n",
      "\n"
     ]
    },
    {
     "data": {
      "text/html": [
       "<div>\n",
       "<style scoped>\n",
       "    .dataframe tbody tr th:only-of-type {\n",
       "        vertical-align: middle;\n",
       "    }\n",
       "\n",
       "    .dataframe tbody tr th {\n",
       "        vertical-align: top;\n",
       "    }\n",
       "\n",
       "    .dataframe thead th {\n",
       "        text-align: right;\n",
       "    }\n",
       "</style>\n",
       "<table border=\"1\" class=\"dataframe\">\n",
       "  <thead>\n",
       "    <tr style=\"text-align: right;\">\n",
       "      <th></th>\n",
       "      <th>gender</th>\n",
       "      <th>age</th>\n",
       "      <th>income</th>\n",
       "      <th>family_members</th>\n",
       "    </tr>\n",
       "  </thead>\n",
       "  <tbody>\n",
       "    <tr>\n",
       "      <th>0</th>\n",
       "      <td>1</td>\n",
       "      <td>41</td>\n",
       "      <td>49600.0</td>\n",
       "      <td>1</td>\n",
       "    </tr>\n",
       "    <tr>\n",
       "      <th>1</th>\n",
       "      <td>0</td>\n",
       "      <td>46</td>\n",
       "      <td>38000.0</td>\n",
       "      <td>1</td>\n",
       "    </tr>\n",
       "    <tr>\n",
       "      <th>2</th>\n",
       "      <td>0</td>\n",
       "      <td>29</td>\n",
       "      <td>21000.0</td>\n",
       "      <td>0</td>\n",
       "    </tr>\n",
       "    <tr>\n",
       "      <th>3</th>\n",
       "      <td>0</td>\n",
       "      <td>21</td>\n",
       "      <td>41700.0</td>\n",
       "      <td>2</td>\n",
       "    </tr>\n",
       "    <tr>\n",
       "      <th>4</th>\n",
       "      <td>1</td>\n",
       "      <td>28</td>\n",
       "      <td>26100.0</td>\n",
       "      <td>0</td>\n",
       "    </tr>\n",
       "    <tr>\n",
       "      <th>...</th>\n",
       "      <td>...</td>\n",
       "      <td>...</td>\n",
       "      <td>...</td>\n",
       "      <td>...</td>\n",
       "    </tr>\n",
       "    <tr>\n",
       "      <th>4995</th>\n",
       "      <td>0</td>\n",
       "      <td>28</td>\n",
       "      <td>35700.0</td>\n",
       "      <td>2</td>\n",
       "    </tr>\n",
       "    <tr>\n",
       "      <th>4996</th>\n",
       "      <td>0</td>\n",
       "      <td>34</td>\n",
       "      <td>52400.0</td>\n",
       "      <td>1</td>\n",
       "    </tr>\n",
       "    <tr>\n",
       "      <th>4997</th>\n",
       "      <td>0</td>\n",
       "      <td>20</td>\n",
       "      <td>33900.0</td>\n",
       "      <td>2</td>\n",
       "    </tr>\n",
       "    <tr>\n",
       "      <th>4998</th>\n",
       "      <td>1</td>\n",
       "      <td>22</td>\n",
       "      <td>32700.0</td>\n",
       "      <td>3</td>\n",
       "    </tr>\n",
       "    <tr>\n",
       "      <th>4999</th>\n",
       "      <td>1</td>\n",
       "      <td>28</td>\n",
       "      <td>40600.0</td>\n",
       "      <td>1</td>\n",
       "    </tr>\n",
       "  </tbody>\n",
       "</table>\n",
       "<p>5000 rows × 4 columns</p>\n",
       "</div>"
      ],
      "text/plain": [
       "      gender  age   income  family_members\n",
       "0          1   41  49600.0               1\n",
       "1          0   46  38000.0               1\n",
       "2          0   29  21000.0               0\n",
       "3          0   21  41700.0               2\n",
       "4          1   28  26100.0               0\n",
       "...      ...  ...      ...             ...\n",
       "4995       0   28  35700.0               2\n",
       "4996       0   34  52400.0               1\n",
       "4997       0   20  33900.0               2\n",
       "4998       1   22  32700.0               3\n",
       "4999       1   28  40600.0               1\n",
       "\n",
       "[5000 rows x 4 columns]"
      ]
     },
     "metadata": {},
     "output_type": "display_data"
    },
    {
     "data": {
      "text/html": [
       "<div>\n",
       "<style scoped>\n",
       "    .dataframe tbody tr th:only-of-type {\n",
       "        vertical-align: middle;\n",
       "    }\n",
       "\n",
       "    .dataframe tbody tr th {\n",
       "        vertical-align: top;\n",
       "    }\n",
       "\n",
       "    .dataframe thead th {\n",
       "        text-align: right;\n",
       "    }\n",
       "</style>\n",
       "<table border=\"1\" class=\"dataframe\">\n",
       "  <thead>\n",
       "    <tr style=\"text-align: right;\">\n",
       "      <th></th>\n",
       "      <th>gender</th>\n",
       "      <th>age</th>\n",
       "      <th>income</th>\n",
       "      <th>family_members</th>\n",
       "    </tr>\n",
       "  </thead>\n",
       "  <tbody>\n",
       "    <tr>\n",
       "      <th>0</th>\n",
       "      <td>1.000000e+00</td>\n",
       "      <td>41.0</td>\n",
       "      <td>49600.0</td>\n",
       "      <td>1.000000e+00</td>\n",
       "    </tr>\n",
       "    <tr>\n",
       "      <th>1</th>\n",
       "      <td>-4.473636e-12</td>\n",
       "      <td>46.0</td>\n",
       "      <td>38000.0</td>\n",
       "      <td>1.000000e+00</td>\n",
       "    </tr>\n",
       "    <tr>\n",
       "      <th>2</th>\n",
       "      <td>-2.515869e-12</td>\n",
       "      <td>29.0</td>\n",
       "      <td>21000.0</td>\n",
       "      <td>9.524523e-13</td>\n",
       "    </tr>\n",
       "    <tr>\n",
       "      <th>3</th>\n",
       "      <td>-4.844982e-12</td>\n",
       "      <td>21.0</td>\n",
       "      <td>41700.0</td>\n",
       "      <td>2.000000e+00</td>\n",
       "    </tr>\n",
       "    <tr>\n",
       "      <th>4</th>\n",
       "      <td>1.000000e+00</td>\n",
       "      <td>28.0</td>\n",
       "      <td>26100.0</td>\n",
       "      <td>-1.019907e-13</td>\n",
       "    </tr>\n",
       "    <tr>\n",
       "      <th>...</th>\n",
       "      <td>...</td>\n",
       "      <td>...</td>\n",
       "      <td>...</td>\n",
       "      <td>...</td>\n",
       "    </tr>\n",
       "    <tr>\n",
       "      <th>4995</th>\n",
       "      <td>-2.559766e-12</td>\n",
       "      <td>28.0</td>\n",
       "      <td>35700.0</td>\n",
       "      <td>2.000000e+00</td>\n",
       "    </tr>\n",
       "    <tr>\n",
       "      <th>4996</th>\n",
       "      <td>-5.486091e-12</td>\n",
       "      <td>34.0</td>\n",
       "      <td>52400.0</td>\n",
       "      <td>1.000000e+00</td>\n",
       "    </tr>\n",
       "    <tr>\n",
       "      <th>4997</th>\n",
       "      <td>-1.928379e-12</td>\n",
       "      <td>20.0</td>\n",
       "      <td>33900.0</td>\n",
       "      <td>2.000000e+00</td>\n",
       "    </tr>\n",
       "    <tr>\n",
       "      <th>4998</th>\n",
       "      <td>1.000000e+00</td>\n",
       "      <td>22.0</td>\n",
       "      <td>32700.0</td>\n",
       "      <td>3.000000e+00</td>\n",
       "    </tr>\n",
       "    <tr>\n",
       "      <th>4999</th>\n",
       "      <td>1.000000e+00</td>\n",
       "      <td>28.0</td>\n",
       "      <td>40600.0</td>\n",
       "      <td>1.000000e+00</td>\n",
       "    </tr>\n",
       "  </tbody>\n",
       "</table>\n",
       "<p>5000 rows × 4 columns</p>\n",
       "</div>"
      ],
      "text/plain": [
       "            gender   age   income  family_members\n",
       "0     1.000000e+00  41.0  49600.0    1.000000e+00\n",
       "1    -4.473636e-12  46.0  38000.0    1.000000e+00\n",
       "2    -2.515869e-12  29.0  21000.0    9.524523e-13\n",
       "3    -4.844982e-12  21.0  41700.0    2.000000e+00\n",
       "4     1.000000e+00  28.0  26100.0   -1.019907e-13\n",
       "...            ...   ...      ...             ...\n",
       "4995 -2.559766e-12  28.0  35700.0    2.000000e+00\n",
       "4996 -5.486091e-12  34.0  52400.0    1.000000e+00\n",
       "4997 -1.928379e-12  20.0  33900.0    2.000000e+00\n",
       "4998  1.000000e+00  22.0  32700.0    3.000000e+00\n",
       "4999  1.000000e+00  28.0  40600.0    1.000000e+00\n",
       "\n",
       "[5000 rows x 4 columns]"
      ]
     },
     "metadata": {},
     "output_type": "display_data"
    }
   ],
   "source": [
    "X_original = np.dot(X2 , np.linalg.inv(P))\n",
    "print(X_original)\n",
    "print()\n",
    "display(df_pn)\n",
    "display(pd.DataFrame(X_original,columns=personal_info_column_list))"
   ]
  },
  {
   "cell_type": "markdown",
   "metadata": {},
   "source": [
    "Muestra los tres casos para algunos clientes- Datos originales\n",
    "- El que está transformado- El que está invertido (recuperado)"
   ]
  },
  {
   "cell_type": "code",
   "execution_count": 48,
   "metadata": {},
   "outputs": [
    {
     "data": {
      "text/plain": [
       "array([[0.00e+00, 2.10e+01, 4.17e+04, 2.00e+00],\n",
       "       [1.00e+00, 2.80e+01, 2.61e+04, 0.00e+00],\n",
       "       [1.00e+00, 4.30e+01, 4.10e+04, 2.00e+00],\n",
       "       [1.00e+00, 3.90e+01, 3.97e+04, 2.00e+00],\n",
       "       [1.00e+00, 2.50e+01, 3.86e+04, 4.00e+00]])"
      ]
     },
     "execution_count": 48,
     "metadata": {},
     "output_type": "execute_result"
    }
   ],
   "source": [
    "X[3:8]"
   ]
  },
  {
   "cell_type": "code",
   "execution_count": 50,
   "metadata": {},
   "outputs": [
    {
     "data": {
      "text/plain": [
       "array([[ 5345.60393712, 18803.22720286, 15479.14837264, 38663.06186284],\n",
       "       [ 3347.17673462, 11782.82928336,  9699.99894205, 24211.27337753],\n",
       "       [ 5258.77025195, 18509.8596165 , 15237.19342704, 38032.31715339],\n",
       "       [ 5091.84582008, 17920.45540783, 14752.11143673, 36824.37841067],\n",
       "       [ 4950.8900715 , 17413.01768645, 14334.46448264, 35794.3865001 ]])"
      ]
     },
     "execution_count": 50,
     "metadata": {},
     "output_type": "execute_result"
    }
   ],
   "source": [
    "X2[3:8]"
   ]
  },
  {
   "cell_type": "code",
   "execution_count": 51,
   "metadata": {},
   "outputs": [
    {
     "data": {
      "text/plain": [
       "array([[-4.84498208e-12,  2.10000000e+01,  4.17000000e+04,\n",
       "         2.00000000e+00],\n",
       "       [ 1.00000000e+00,  2.80000000e+01,  2.61000000e+04,\n",
       "        -1.01990740e-13],\n",
       "       [ 1.00000000e+00,  4.30000000e+01,  4.10000000e+04,\n",
       "         2.00000000e+00],\n",
       "       [ 1.00000000e+00,  3.90000000e+01,  3.97000000e+04,\n",
       "         2.00000000e+00],\n",
       "       [ 1.00000000e+00,  2.50000000e+01,  3.86000000e+04,\n",
       "         4.00000000e+00]])"
      ]
     },
     "execution_count": 51,
     "metadata": {},
     "output_type": "execute_result"
    }
   ],
   "source": [
    "X_original[3:8]"
   ]
  },
  {
   "cell_type": "markdown",
   "metadata": {},
   "source": [
    "Seguramente puedes ver que algunos valores no son exactamente iguales a los de los datos originales. ¿Cuál podría ser la razón de ello?"
   ]
  },
  {
   "cell_type": "markdown",
   "metadata": {},
   "source": [
    "Durante las operaciones aritméticas se podrían haber despreciado decimales por redondeo, por lo que al recuperar la matriz original los resultados podrían no ser exactamente las mismas."
   ]
  },
  {
   "cell_type": "markdown",
   "metadata": {},
   "source": [
    "<div class=\"alert alert-block alert-success\">\n",
    "<b>Comentario del revisor</b> <a class=\"tocSkip\"></a>\n",
    "\n",
    "Excelente! Lograste ofuscar los datos originales de forma adecuada y después recuperarlos a través de operaciones matriciales. Si bien hay una diferencia muy pequeña entre los datos orginales y los datos recuperados, se debe a los redondeos que se están realizando al hacer las operaciones.\n",
    "</div>"
   ]
  },
  {
   "cell_type": "markdown",
   "metadata": {},
   "source": [
    "## Prueba de que la ofuscación de datos puede funcionar con regresión lineal"
   ]
  },
  {
   "cell_type": "markdown",
   "metadata": {},
   "source": [
    "En este proyecto la tarea de regresión se ha resuelto con la regresión lineal. Tu siguiente tarea es demostrar _analytically_ que el método de ofuscación no afectará a la regresión lineal en términos de valores predichos, es decir, que sus valores seguirán siendo los mismos. ¿Lo puedes creer? Pues no hace falta que lo creas, ¡tienes que que demostrarlo!"
   ]
  },
  {
   "cell_type": "markdown",
   "metadata": {},
   "source": [
    "Entonces, los datos están ofuscados y ahora tenemos $X \\times P$ en lugar de tener solo $X$. En consecuencia, hay otros pesos $w_P$ como\n",
    "$$\n",
    "w = (X^T X)^{-1} X^T y \\quad \\Rightarrow \\quad w_P = [(XP)^T XP]^{-1} (XP)^T y\n",
    "$$\n",
    "\n",
    "¿Cómo se relacionarían $w$ y $w_P$ si simplificáramos la fórmula de $w_P$ anterior? \n",
    "\n",
    "¿Cuáles serían los valores predichos con $w_P$? \n",
    "\n",
    "¿Qué significa esto para la calidad de la regresión lineal si esta se mide mediante la RECM?\n",
    "Revisa el Apéndice B Propiedades de las matrices al final del cuaderno. ¡Allí encontrarás fórmulas muy útiles!\n",
    "\n",
    "No es necesario escribir código en esta sección, basta con una explicación analítica."
   ]
  },
  {
   "cell_type": "markdown",
   "metadata": {},
   "source": [
    "**Respuesta**"
   ]
  },
  {
   "cell_type": "markdown",
   "metadata": {},
   "source": [
    "Debido a que el coeficiente de P se aplica a toda la matriz, el resultado final no se verá afectado, lo que hace que ofuscación sea un método que conserva la integridad de los datos sin afectar el análisis y las conclusiones finales."
   ]
  },
  {
   "cell_type": "markdown",
   "metadata": {},
   "source": [
    "**Prueba analítica**"
   ]
  },
  {
   "cell_type": "markdown",
   "metadata": {},
   "source": [
    "# Calculamos la inversa de P\n",
    "P_inv = np.linalg.inv(P)\n",
    "\n",
    "# Calculamos (X^T * X)^-1\n",
    "XTX_inv = np.linalg.inv(X.T @ X)\n",
    "\n",
    "# Calculamos wP usando la fórmula\n",
    "wP = P_inv @ XTX_inv @ X.T @ y\n",
    "\n",
    "# Verificamos que wP = P^-1 * w\n",
    "w = XTX_inv @ X.T @ y\n",
    "wP_check = P_inv @ w"
   ]
  },
  {
   "cell_type": "markdown",
   "metadata": {},
   "source": [
    "<div class=\"alert alert-block alert-success\">\n",
    "<b>Comentario del revisor</b> <a class=\"tocSkip\"></a>\n",
    "\n",
    "Muy buena prueba! Simplificando un poco más encontrarás que \\begin{align}\n",
    "w_P &= P^{-1} w \\\\\n",
    "P w_P &= P P^{-1} w \\\\\n",
    "P w_P &= w \\\\\n",
    "w &= P w_P \\\\\n",
    "\\end{align}\n",
    "    \n",
    "Esta relación entre los coeficientes de la regresión nos garantiza que las predicciones del modelo serán iguales para ambos conjuntos de datos.\n",
    "</div>"
   ]
  },
  {
   "cell_type": "markdown",
   "metadata": {},
   "source": [
    "## Prueba de regresión lineal con ofuscación de datos"
   ]
  },
  {
   "cell_type": "markdown",
   "metadata": {},
   "source": [
    "Ahora, probemos que la regresión lineal pueda funcionar, en términos computacionales, con la transformación de ofuscación elegida.\n",
    "Construye un procedimiento o una clase que ejecute la regresión lineal opcionalmente con la ofuscación. Puedes usar una implementación de regresión lineal de scikit-learn o tu propia implementación.\n",
    "Ejecuta la regresión lineal para los datos originales y los ofuscados, compara los valores predichos y los valores de las métricas RMSE y $R^2$. ¿Hay alguna diferencia?"
   ]
  },
  {
   "cell_type": "markdown",
   "metadata": {},
   "source": [
    "**Procedimiento**\n",
    "\n",
    "- Crea una matriz cuadrada $P$ de números aleatorios.- Comprueba que sea invertible. Si no lo es, repite el primer paso hasta obtener una matriz invertible.- <¡ tu comentario aquí !>\n",
    "- Utiliza $XP$ como la nueva matriz de características"
   ]
  },
  {
   "cell_type": "code",
   "execution_count": 54,
   "metadata": {},
   "outputs": [
    {
     "data": {
      "text/plain": [
       "array([[0.6008643 , 0.07585186, 0.35032078, 0.33361493],\n",
       "       [0.0379771 , 0.85747088, 0.03500592, 0.00273546],\n",
       "       [0.63681375, 0.04221099, 0.1517711 , 0.20103645],\n",
       "       [0.49645795, 0.42523532, 0.4600803 , 0.68256937]])"
      ]
     },
     "execution_count": 54,
     "metadata": {},
     "output_type": "execute_result"
    }
   ],
   "source": [
    "rng = np.random.default_rng(seed=92)\n",
    "P = rng.random(size=(X.shape[1],X.shape[1]))\n",
    "P"
   ]
  },
  {
   "cell_type": "code",
   "execution_count": 55,
   "metadata": {},
   "outputs": [
    {
     "name": "stdout",
     "output_type": "stream",
     "text": [
      "[[ 1.00000000e+00 -9.31292705e-17 -9.28046331e-17  1.74529169e-16]\n",
      " [ 6.90658172e-18  1.00000000e+00 -2.55515134e-18 -1.85330136e-18]\n",
      " [ 2.86470936e-17 -1.55852995e-17  1.00000000e+00  5.36824820e-17]\n",
      " [-8.87419634e-17 -3.35902557e-17  1.34417981e-16  1.00000000e+00]]\n",
      "\n",
      "[[ 1.00000000e+00 -5.63389945e-17 -6.84365381e-17 -6.55316304e-17]\n",
      " [-4.39344801e-17  1.00000000e+00 -1.97139678e-17 -2.76679647e-17]\n",
      " [ 8.01807775e-16  8.45514992e-17  1.00000000e+00  5.72997244e-16]\n",
      " [-2.38150857e-16 -3.90376096e-17 -2.14084465e-16  1.00000000e+00]]\n"
     ]
    },
    {
     "data": {
      "text/plain": [
       "(0.9999999999999999, 1.0000000000000002)"
      ]
     },
     "execution_count": 55,
     "metadata": {},
     "output_type": "execute_result"
    }
   ],
   "source": [
    "#Comprueba que la matriz sea reversible\n",
    "PPinv = P @ np.linalg.inv(P)\n",
    "print(PPinv)\n",
    "print()\n",
    "PinvP = np.linalg.inv(P) @ P\n",
    "print(PinvP)\n",
    "\n",
    "np.linalg.det(PPinv),np.linalg.det(PinvP)"
   ]
  },
  {
   "cell_type": "code",
   "execution_count": 58,
   "metadata": {},
   "outputs": [
    {
     "name": "stdout",
     "output_type": "stream",
     "text": [
      "[-9.59392098e-01  8.18179629e-03  3.65344879e-02 -2.19473247e-07\n",
      " -1.46482430e-02]\n",
      "RMSE: 0.33\n",
      "R2: 0.64\n"
     ]
    }
   ],
   "source": [
    "#Ejercicio sin ofuscar\n",
    "\n",
    "X_train, X_test, y_train, y_test = train_test_split(X, y, test_size=0.3, random_state=54321)\n",
    "\n",
    "lr = MyLinearRegression()\n",
    "\n",
    "lr.fit(X_train, y_train)\n",
    "print(lr.weights)\n",
    "\n",
    "y_test_pred = lr.predict(X_test)\n",
    "eval_regressor(y_test, y_test_pred)"
   ]
  },
  {
   "cell_type": "code",
   "execution_count": 62,
   "metadata": {},
   "outputs": [
    {
     "name": "stdout",
     "output_type": "stream",
     "text": [
      "[-0.95939208  0.01076251  0.03724169  0.13074182 -0.14061515]\n",
      "RMSE: 0.33\n",
      "R2: 0.64\n"
     ]
    }
   ],
   "source": [
    "# Test con datos ofuscados\n",
    "X_train, X_test, y_train, y_test = train_test_split(X@P, y, test_size=0.3, random_state=54321)\n",
    "\n",
    "lr = MyLinearRegression()\n",
    "\n",
    "lr.fit(X_train, y_train)\n",
    "print(lr.weights)\n",
    "\n",
    "y_test_pred = lr.predict(X_test)\n",
    "eval_regressor(y_test, y_test_pred)"
   ]
  },
  {
   "cell_type": "markdown",
   "metadata": {},
   "source": [
    "De las pruebas realizadas se puede observar que los valores de RMSE y R2 no se alteran si se usan datos no ofuscados u ofuscados, que es lo que se presumía inicialmente"
   ]
  },
  {
   "cell_type": "markdown",
   "metadata": {},
   "source": [
    "<div class=\"alert alert-block alert-success\">\n",
    "<b>Comentario del revisor</b> <a class=\"tocSkip\"></a>\n",
    "\n",
    "Como ya demostraste anteriormente no existe diferencias entre el RMSE y R2 usando los datos originales y los datos ofuscados.\n",
    "</div>"
   ]
  },
  {
   "cell_type": "markdown",
   "metadata": {},
   "source": [
    "# Conclusiones"
   ]
  },
  {
   "cell_type": "markdown",
   "metadata": {},
   "source": [
    "* Las métricas de distancia Euclidiana y Manhattan proporcionaron resultados similares, aunque en diferente orden.\n",
    "\n",
    "* El escalado de datos es crucial para obtener resultados precisos, ya que ayuda a dar un peso uniforme a las características y evita que las características con valores altos dominen el análisis.\n",
    "\n",
    "* El escalado de datos reduce significativamente los falsos negativos, mejorando la precisión del modelo.\n",
    "\n",
    "* Las pruebas con y sin escalado mostraron que el escalado mejora la clasificación correcta de los datos.\n",
    "\n",
    "* La ofuscación de datos requiere una matriz invertible para asegurar que los datos puedan ser revertidos a su estado original.\n",
    "\n",
    "* La ofuscación no afecta los resultados finales en la regresión lineal, siempre y cuando se conozca la matriz utilizada para la ofuscación."
   ]
  },
  {
   "cell_type": "markdown",
   "metadata": {},
   "source": [
    "# Lista de control"
   ]
  },
  {
   "cell_type": "markdown",
   "metadata": {},
   "source": [
    "Escribe 'x' para verificar. Luego presiona Shift+Enter."
   ]
  },
  {
   "cell_type": "markdown",
   "metadata": {},
   "source": [
    "- [x]  Jupyter Notebook está abierto\n",
    "- [ ]  El código no tiene errores- [ ]  Las celdas están ordenadas de acuerdo con la lógica y el orden de ejecución\n",
    "- [ ]  Se ha realizado la tarea 1\n",
    "    - [ ]  Está presente el procedimiento que puede devolver k clientes similares para un cliente determinado\n",
    "    - [ ]  Se probó el procedimiento para las cuatro combinaciones propuestas    - [ ]  Se respondieron las preguntas sobre la escala/distancia- [ ]  Se ha realizado la tarea 2\n",
    "    - [ ]  Se construyó y probó el modelo de clasificación aleatoria para todos los niveles de probabilidad    - [ ]  Se construyó y probó el modelo de clasificación kNN tanto para los datos originales como para los escalados. Se calculó la métrica F1.- [ ]  Se ha realizado la tarea 3\n",
    "    - [ ]  Se implementó la solución de regresión lineal mediante operaciones matriciales    - [ ]  Se calculó la RECM para la solución implementada- [ ]  Se ha realizado la tarea 4\n",
    "    - [ ]  Se ofuscaron los datos mediante una matriz aleatoria e invertible P    - [ ]  Se recuperaron los datos ofuscados y se han mostrado algunos ejemplos    - [ ]  Se proporcionó la prueba analítica de que la transformación no afecta a la RECM    - [ ]  Se proporcionó la prueba computacional de que la transformación no afecta a la RECM- [ ]  Se han sacado conclusiones"
   ]
  },
  {
   "cell_type": "markdown",
   "metadata": {},
   "source": [
    "# Apéndices\n",
    "\n",
    "## Apéndice A: Escribir fórmulas en los cuadernos de Jupyter"
   ]
  },
  {
   "cell_type": "markdown",
   "metadata": {},
   "source": [
    "Puedes escribir fórmulas en tu Jupyter Notebook utilizando un lenguaje de marcado proporcionado por un sistema de publicación de alta calidad llamado $\\LaTeX$ (se pronuncia como \"Lah-tech\"). Las fórmulas se verán como las de los libros de texto.\n",
    "\n",
    "Para incorporar una fórmula a un texto, pon el signo de dólar (\\\\$) antes y después del texto de la fórmula, por ejemplo: $\\frac{1}{2} \\times \\frac{3}{2} = \\frac{3}{4}$ or $y = x^2, x \\ge 1$.\n",
    "\n",
    "Si una fórmula debe estar en el mismo párrafo, pon el doble signo de dólar (\\\\$\\\\$) antes y después del texto de la fórmula, por ejemplo:\n",
    "$$\n",
    "\\bar{x} = \\frac{1}{n}\\sum_{i=1}^{n} x_i.\n",
    "$$\n",
    "\n",
    "El lenguaje de marcado de [LaTeX](https://es.wikipedia.org/wiki/LaTeX) es muy popular entre las personas que utilizan fórmulas en sus artículos, libros y textos. Puede resultar complicado, pero sus fundamentos son sencillos. Consulta esta [ficha de ayuda](http://tug.ctan.org/info/undergradmath/undergradmath.pdf) (materiales en inglés) de dos páginas para aprender a componer las fórmulas más comunes."
   ]
  },
  {
   "cell_type": "markdown",
   "metadata": {},
   "source": [
    "## Apéndice B: Propiedades de las matrices"
   ]
  },
  {
   "cell_type": "markdown",
   "metadata": {},
   "source": [
    "Las matrices tienen muchas propiedades en cuanto al álgebra lineal. Aquí se enumeran algunas de ellas que pueden ayudarte a la hora de realizar la prueba analítica de este proyecto."
   ]
  },
  {
   "cell_type": "markdown",
   "metadata": {},
   "source": [
    "<table>\n",
    "<tr>\n",
    "<td>Distributividad</td><td>$A(B+C)=AB+AC$</td>\n",
    "</tr>\n",
    "<tr>\n",
    "<td>No conmutatividad</td><td>$AB \\neq BA$</td>\n",
    "</tr>\n",
    "<tr>\n",
    "<td>Propiedad asociativa de la multiplicación</td><td>$(AB)C = A(BC)$</td>\n",
    "</tr>\n",
    "<tr>\n",
    "<td>Propiedad de identidad multiplicativa</td><td>$IA = AI = A$</td>\n",
    "</tr>\n",
    "<tr>\n",
    "<td></td><td>$A^{-1}A = AA^{-1} = I$\n",
    "</td>\n",
    "</tr>    \n",
    "<tr>\n",
    "<td></td><td>$(AB)^{-1} = B^{-1}A^{-1}$</td>\n",
    "</tr>    \n",
    "<tr>\n",
    "<td>Reversibilidad de la transposición de un producto de matrices,</td><td>$(AB)^T = B^TA^T$</td>\n",
    "</tr>    \n",
    "</table>"
   ]
  },
  {
   "cell_type": "markdown",
   "metadata": {},
   "source": [
    "<div class=\"alert alert-block alert-success\">\n",
    "<b>Resumen de la revisión</b> <a class=\"tocSkip\"></a>\n",
    "\n",
    "Muy buen trabajo, Marco! Te hice un comentario en donde te sugiero complementar con una interpretación, además de que te hice unas pequeñas correcciones en el inciso final del proyecto para evitar unos errores que estaban surgiendo. Sigue esforzándote!\n",
    "</div>"
   ]
  }
 ],
 "metadata": {
  "ExecuteTimeLog": [
   {
    "duration": 4260,
    "start_time": "2024-08-23T15:12:57.311Z"
   },
   {
    "duration": 5134,
    "start_time": "2024-08-23T15:13:59.030Z"
   },
   {
    "duration": 18,
    "start_time": "2024-08-23T15:14:05.845Z"
   },
   {
    "duration": 5,
    "start_time": "2024-08-23T15:14:14.002Z"
   },
   {
    "duration": 22,
    "start_time": "2024-08-23T15:14:23.536Z"
   },
   {
    "duration": 4,
    "start_time": "2024-08-23T15:14:52.679Z"
   },
   {
    "duration": 15,
    "start_time": "2024-08-23T15:14:55.548Z"
   },
   {
    "duration": 18,
    "start_time": "2024-08-23T15:15:08.172Z"
   },
   {
    "duration": 671,
    "start_time": "2024-08-23T15:17:17.075Z"
   },
   {
    "duration": 6,
    "start_time": "2024-08-23T15:18:15.509Z"
   },
   {
    "duration": 21,
    "start_time": "2024-08-23T15:18:21.070Z"
   },
   {
    "duration": 19,
    "start_time": "2024-08-23T15:18:27.666Z"
   },
   {
    "duration": 4,
    "start_time": "2024-08-23T15:18:41.297Z"
   },
   {
    "duration": 21,
    "start_time": "2024-08-23T15:18:44.960Z"
   },
   {
    "duration": 39,
    "start_time": "2024-08-23T15:19:04.037Z"
   },
   {
    "duration": 27,
    "start_time": "2024-08-23T15:24:31.043Z"
   },
   {
    "duration": 167,
    "start_time": "2024-08-23T15:26:47.209Z"
   },
   {
    "duration": 5,
    "start_time": "2024-08-23T15:27:03.233Z"
   },
   {
    "duration": 129,
    "start_time": "2024-08-23T15:27:11.950Z"
   },
   {
    "duration": 834,
    "start_time": "2024-08-23T15:33:35.104Z"
   },
   {
    "duration": 1608,
    "start_time": "2024-08-23T15:51:25.001Z"
   },
   {
    "duration": 705,
    "start_time": "2024-08-23T15:51:39.687Z"
   },
   {
    "duration": 9,
    "start_time": "2024-08-23T16:14:41.536Z"
   },
   {
    "duration": 721,
    "start_time": "2024-08-23T16:14:53.399Z"
   },
   {
    "duration": 6,
    "start_time": "2024-08-23T16:15:31.449Z"
   },
   {
    "duration": 5,
    "start_time": "2024-08-23T16:15:49.343Z"
   },
   {
    "duration": 721,
    "start_time": "2024-08-23T16:15:55.410Z"
   },
   {
    "duration": 715,
    "start_time": "2024-08-23T16:16:20.640Z"
   },
   {
    "duration": 213,
    "start_time": "2024-08-23T16:38:10.202Z"
   },
   {
    "duration": 132,
    "start_time": "2024-08-23T16:38:19.809Z"
   },
   {
    "duration": 83,
    "start_time": "2024-08-23T16:38:38.885Z"
   },
   {
    "duration": 129,
    "start_time": "2024-08-23T16:38:48.978Z"
   },
   {
    "duration": 173,
    "start_time": "2024-08-23T16:39:06.859Z"
   },
   {
    "duration": 146,
    "start_time": "2024-08-23T16:39:22.821Z"
   },
   {
    "duration": 172,
    "start_time": "2024-08-23T16:48:27.957Z"
   },
   {
    "duration": 128,
    "start_time": "2024-08-23T16:49:04.133Z"
   },
   {
    "duration": 309,
    "start_time": "2024-08-23T16:49:20.223Z"
   },
   {
    "duration": 139,
    "start_time": "2024-08-23T16:49:52.943Z"
   },
   {
    "duration": 79,
    "start_time": "2024-08-23T16:50:42.523Z"
   },
   {
    "duration": 139,
    "start_time": "2024-08-23T16:51:08.312Z"
   },
   {
    "duration": 5067,
    "start_time": "2024-08-23T20:07:54.908Z"
   },
   {
    "duration": 20,
    "start_time": "2024-08-23T20:07:59.978Z"
   },
   {
    "duration": 5,
    "start_time": "2024-08-23T20:08:00.133Z"
   },
   {
    "duration": 25,
    "start_time": "2024-08-23T20:08:03.198Z"
   },
   {
    "duration": 16,
    "start_time": "2024-08-23T20:08:09.385Z"
   },
   {
    "duration": 5,
    "start_time": "2024-08-23T20:08:17.253Z"
   },
   {
    "duration": 14,
    "start_time": "2024-08-23T20:08:20.421Z"
   },
   {
    "duration": 29,
    "start_time": "2024-08-23T20:08:24.137Z"
   },
   {
    "duration": 139,
    "start_time": "2024-08-23T20:08:28.106Z"
   },
   {
    "duration": 210,
    "start_time": "2024-08-23T20:08:31.083Z"
   },
   {
    "duration": 140,
    "start_time": "2024-08-23T20:08:34.436Z"
   },
   {
    "duration": 141,
    "start_time": "2024-08-23T20:08:38.116Z"
   },
   {
    "duration": 136,
    "start_time": "2024-08-23T20:08:41.765Z"
   },
   {
    "duration": 4830,
    "start_time": "2024-08-23T20:08:52.599Z"
   },
   {
    "duration": 4,
    "start_time": "2024-08-23T20:22:02.088Z"
   },
   {
    "duration": 6,
    "start_time": "2024-08-23T20:28:58.572Z"
   },
   {
    "duration": 15,
    "start_time": "2024-08-23T20:29:08.891Z"
   },
   {
    "duration": 14,
    "start_time": "2024-08-23T20:29:11.739Z"
   },
   {
    "duration": 6,
    "start_time": "2024-08-23T20:31:24.495Z"
   },
   {
    "duration": 6,
    "start_time": "2024-08-23T20:31:27.854Z"
   },
   {
    "duration": 6,
    "start_time": "2024-08-23T20:31:30.307Z"
   },
   {
    "duration": 14,
    "start_time": "2024-08-23T20:31:38.423Z"
   },
   {
    "duration": 14,
    "start_time": "2024-08-23T20:31:41.102Z"
   },
   {
    "duration": 6,
    "start_time": "2024-08-23T20:31:46.854Z"
   },
   {
    "duration": 409,
    "start_time": "2024-08-23T21:03:35.937Z"
   },
   {
    "duration": 40,
    "start_time": "2024-08-23T21:04:39.751Z"
   },
   {
    "duration": 5,
    "start_time": "2024-08-23T21:05:15.059Z"
   },
   {
    "duration": 17,
    "start_time": "2024-08-23T21:05:36.335Z"
   },
   {
    "duration": 30,
    "start_time": "2024-08-23T21:06:54.052Z"
   },
   {
    "duration": 30,
    "start_time": "2024-08-23T21:07:05.512Z"
   },
   {
    "duration": 30,
    "start_time": "2024-08-23T21:07:16.263Z"
   },
   {
    "duration": 31,
    "start_time": "2024-08-23T21:07:24.504Z"
   },
   {
    "duration": 38,
    "start_time": "2024-08-23T21:07:31.399Z"
   },
   {
    "duration": 29,
    "start_time": "2024-08-23T21:07:42.673Z"
   },
   {
    "duration": 31,
    "start_time": "2024-08-23T21:07:46.502Z"
   },
   {
    "duration": 29,
    "start_time": "2024-08-23T21:10:20.820Z"
   },
   {
    "duration": 33,
    "start_time": "2024-08-23T21:10:31.978Z"
   },
   {
    "duration": 9,
    "start_time": "2024-08-23T21:16:01.488Z"
   },
   {
    "duration": 32,
    "start_time": "2024-08-23T21:16:16.411Z"
   },
   {
    "duration": 45,
    "start_time": "2024-08-23T21:16:51.779Z"
   },
   {
    "duration": 55,
    "start_time": "2024-08-23T21:17:46.119Z"
   },
   {
    "duration": 14,
    "start_time": "2024-08-23T21:18:46.405Z"
   },
   {
    "duration": 14,
    "start_time": "2024-08-23T21:18:48.719Z"
   },
   {
    "duration": 61,
    "start_time": "2024-08-23T21:29:37.804Z"
   },
   {
    "duration": 33,
    "start_time": "2024-08-23T21:29:47.138Z"
   },
   {
    "duration": 34,
    "start_time": "2024-08-23T21:29:50.100Z"
   },
   {
    "duration": 5,
    "start_time": "2024-08-23T22:34:43.808Z"
   },
   {
    "duration": 4,
    "start_time": "2024-08-23T22:34:50.440Z"
   },
   {
    "duration": 5,
    "start_time": "2024-08-23T22:35:18.690Z"
   },
   {
    "duration": 4,
    "start_time": "2024-08-23T22:35:25.576Z"
   },
   {
    "duration": 7,
    "start_time": "2024-08-23T22:35:31.156Z"
   },
   {
    "duration": 4266,
    "start_time": "2024-08-24T19:04:19.699Z"
   },
   {
    "duration": 5025,
    "start_time": "2024-08-24T19:04:23.969Z"
   },
   {
    "duration": 19,
    "start_time": "2024-08-24T19:04:28.998Z"
   },
   {
    "duration": 5,
    "start_time": "2024-08-24T19:04:29.022Z"
   },
   {
    "duration": 18,
    "start_time": "2024-08-24T19:04:29.030Z"
   },
   {
    "duration": 16,
    "start_time": "2024-08-24T19:04:29.051Z"
   },
   {
    "duration": 4,
    "start_time": "2024-08-24T19:04:29.110Z"
   },
   {
    "duration": 15,
    "start_time": "2024-08-24T19:04:29.118Z"
   },
   {
    "duration": 3,
    "start_time": "2024-08-24T19:04:29.136Z"
   },
   {
    "duration": 69,
    "start_time": "2024-08-24T19:04:29.147Z"
   },
   {
    "duration": 152,
    "start_time": "2024-08-24T19:04:29.218Z"
   },
   {
    "duration": 225,
    "start_time": "2024-08-24T19:04:29.373Z"
   },
   {
    "duration": 148,
    "start_time": "2024-08-24T19:04:29.601Z"
   },
   {
    "duration": 150,
    "start_time": "2024-08-24T19:04:29.752Z"
   },
   {
    "duration": 5464,
    "start_time": "2024-08-24T19:04:29.905Z"
   },
   {
    "duration": 4,
    "start_time": "2024-08-24T19:04:35.372Z"
   },
   {
    "duration": 6,
    "start_time": "2024-08-24T19:04:35.379Z"
   },
   {
    "duration": 68,
    "start_time": "2024-08-24T19:04:35.389Z"
   },
   {
    "duration": 15,
    "start_time": "2024-08-24T19:04:35.459Z"
   },
   {
    "duration": 39,
    "start_time": "2024-08-24T19:04:35.476Z"
   },
   {
    "duration": 35,
    "start_time": "2024-08-24T19:04:35.521Z"
   },
   {
    "duration": 60,
    "start_time": "2024-08-24T19:04:35.559Z"
   },
   {
    "duration": 7,
    "start_time": "2024-08-24T19:04:35.622Z"
   },
   {
    "duration": 0,
    "start_time": "2024-08-24T19:04:35.632Z"
   },
   {
    "duration": 0,
    "start_time": "2024-08-24T19:04:35.635Z"
   },
   {
    "duration": 0,
    "start_time": "2024-08-24T19:04:35.637Z"
   },
   {
    "duration": 0,
    "start_time": "2024-08-24T19:04:35.639Z"
   },
   {
    "duration": 0,
    "start_time": "2024-08-24T19:04:35.641Z"
   },
   {
    "duration": 0,
    "start_time": "2024-08-24T19:04:35.644Z"
   },
   {
    "duration": 0,
    "start_time": "2024-08-24T19:04:35.647Z"
   },
   {
    "duration": 0,
    "start_time": "2024-08-24T19:04:35.649Z"
   },
   {
    "duration": 0,
    "start_time": "2024-08-24T19:04:35.651Z"
   },
   {
    "duration": 0,
    "start_time": "2024-08-24T19:04:35.654Z"
   },
   {
    "duration": 18,
    "start_time": "2024-08-24T19:05:10.343Z"
   },
   {
    "duration": 1263,
    "start_time": "2024-08-24T19:05:40.838Z"
   },
   {
    "duration": 5,
    "start_time": "2024-08-24T19:05:52.302Z"
   },
   {
    "duration": 18,
    "start_time": "2024-08-24T19:06:02.473Z"
   },
   {
    "duration": 9,
    "start_time": "2024-08-24T19:07:02.143Z"
   },
   {
    "duration": 4,
    "start_time": "2024-08-24T19:07:20.729Z"
   },
   {
    "duration": 4,
    "start_time": "2024-08-24T19:16:05.970Z"
   },
   {
    "duration": 4,
    "start_time": "2024-08-24T19:16:34.043Z"
   },
   {
    "duration": 7,
    "start_time": "2024-08-24T19:16:40.450Z"
   },
   {
    "duration": 42,
    "start_time": "2024-08-24T19:17:33.028Z"
   },
   {
    "duration": 9,
    "start_time": "2024-08-24T19:19:06.918Z"
   },
   {
    "duration": 8,
    "start_time": "2024-08-24T19:19:40.018Z"
   },
   {
    "duration": 7,
    "start_time": "2024-08-24T19:19:46.422Z"
   },
   {
    "duration": 5,
    "start_time": "2024-08-24T19:19:53.273Z"
   },
   {
    "duration": 93,
    "start_time": "2024-08-24T19:20:03.820Z"
   },
   {
    "duration": 6,
    "start_time": "2024-08-24T19:21:59.745Z"
   },
   {
    "duration": 8,
    "start_time": "2024-08-24T19:23:34.950Z"
   },
   {
    "duration": 8,
    "start_time": "2024-08-24T19:23:48.577Z"
   },
   {
    "duration": 80,
    "start_time": "2024-08-24T19:24:04.033Z"
   },
   {
    "duration": 4227,
    "start_time": "2024-08-26T14:38:35.337Z"
   },
   {
    "duration": 5138,
    "start_time": "2024-08-26T14:38:39.568Z"
   },
   {
    "duration": 22,
    "start_time": "2024-08-26T14:38:44.710Z"
   },
   {
    "duration": 6,
    "start_time": "2024-08-26T14:38:44.735Z"
   },
   {
    "duration": 19,
    "start_time": "2024-08-26T14:38:44.746Z"
   },
   {
    "duration": 15,
    "start_time": "2024-08-26T14:38:44.768Z"
   },
   {
    "duration": 5,
    "start_time": "2024-08-26T14:38:44.822Z"
   },
   {
    "duration": 15,
    "start_time": "2024-08-26T14:38:44.830Z"
   },
   {
    "duration": 4,
    "start_time": "2024-08-26T14:38:44.848Z"
   },
   {
    "duration": 69,
    "start_time": "2024-08-26T14:38:44.854Z"
   },
   {
    "duration": 162,
    "start_time": "2024-08-26T14:38:44.925Z"
   },
   {
    "duration": 158,
    "start_time": "2024-08-26T14:38:45.090Z"
   },
   {
    "duration": 150,
    "start_time": "2024-08-26T14:38:45.252Z"
   },
   {
    "duration": 151,
    "start_time": "2024-08-26T14:38:45.409Z"
   },
   {
    "duration": 4885,
    "start_time": "2024-08-26T14:38:45.563Z"
   },
   {
    "duration": 4,
    "start_time": "2024-08-26T14:38:50.451Z"
   },
   {
    "duration": 7,
    "start_time": "2024-08-26T14:38:50.459Z"
   },
   {
    "duration": 159,
    "start_time": "2024-08-26T14:38:50.469Z"
   },
   {
    "duration": 14,
    "start_time": "2024-08-26T14:38:50.631Z"
   },
   {
    "duration": 16,
    "start_time": "2024-08-26T14:38:50.648Z"
   },
   {
    "duration": 64,
    "start_time": "2024-08-26T14:38:50.667Z"
   },
   {
    "duration": 34,
    "start_time": "2024-08-26T14:38:50.734Z"
   },
   {
    "duration": 6,
    "start_time": "2024-08-26T14:38:50.771Z"
   },
   {
    "duration": 50,
    "start_time": "2024-08-26T14:38:50.780Z"
   },
   {
    "duration": 7,
    "start_time": "2024-08-26T14:38:50.834Z"
   },
   {
    "duration": 5,
    "start_time": "2024-08-26T14:38:50.844Z"
   },
   {
    "duration": 5,
    "start_time": "2024-08-26T14:38:50.852Z"
   },
   {
    "duration": 136,
    "start_time": "2024-08-26T14:38:50.860Z"
   },
   {
    "duration": 6,
    "start_time": "2024-08-26T14:38:51.000Z"
   },
   {
    "duration": 9,
    "start_time": "2024-08-26T14:38:51.024Z"
   },
   {
    "duration": 132,
    "start_time": "2024-08-26T14:38:51.035Z"
   },
   {
    "duration": 9,
    "start_time": "2024-08-26T14:38:51.171Z"
   },
   {
    "duration": 0,
    "start_time": "2024-08-26T14:38:51.182Z"
   },
   {
    "duration": 0,
    "start_time": "2024-08-26T14:38:51.185Z"
   },
   {
    "duration": 0,
    "start_time": "2024-08-26T14:38:51.187Z"
   },
   {
    "duration": 0,
    "start_time": "2024-08-26T14:38:51.189Z"
   },
   {
    "duration": 0,
    "start_time": "2024-08-26T14:38:51.224Z"
   },
   {
    "duration": 5,
    "start_time": "2024-08-26T14:39:06.989Z"
   },
   {
    "duration": 426,
    "start_time": "2024-08-26T14:39:16.149Z"
   },
   {
    "duration": 38,
    "start_time": "2024-08-26T14:39:38.774Z"
   },
   {
    "duration": 93,
    "start_time": "2024-08-26T14:39:49.930Z"
   },
   {
    "duration": 6,
    "start_time": "2024-08-26T14:39:52.586Z"
   },
   {
    "duration": 8,
    "start_time": "2024-08-26T14:39:57.829Z"
   },
   {
    "duration": 80,
    "start_time": "2024-08-26T14:40:00.493Z"
   },
   {
    "duration": 40,
    "start_time": "2024-08-26T14:41:20.097Z"
   },
   {
    "duration": 78,
    "start_time": "2024-08-26T14:44:22.353Z"
   },
   {
    "duration": 8,
    "start_time": "2024-08-26T14:49:12.798Z"
   },
   {
    "duration": 111,
    "start_time": "2024-08-26T14:49:39.020Z"
   },
   {
    "duration": 110,
    "start_time": "2024-08-26T14:50:32.522Z"
   },
   {
    "duration": 24,
    "start_time": "2024-08-26T14:54:21.108Z"
   },
   {
    "duration": 23,
    "start_time": "2024-08-26T14:54:35.797Z"
   },
   {
    "duration": 7,
    "start_time": "2024-08-26T14:54:40.285Z"
   },
   {
    "duration": 6,
    "start_time": "2024-08-26T17:22:03.259Z"
   },
   {
    "duration": 5,
    "start_time": "2024-08-26T17:22:10.402Z"
   },
   {
    "duration": 97,
    "start_time": "2024-08-26T17:22:52.347Z"
   },
   {
    "duration": 5,
    "start_time": "2024-08-26T17:24:49.247Z"
   },
   {
    "duration": 5,
    "start_time": "2024-08-26T17:24:51.355Z"
   },
   {
    "duration": 5,
    "start_time": "2024-08-26T17:25:06.910Z"
   },
   {
    "duration": 15,
    "start_time": "2024-08-26T17:25:13.375Z"
   },
   {
    "duration": 7,
    "start_time": "2024-08-26T17:27:37.679Z"
   },
   {
    "duration": 12,
    "start_time": "2024-08-26T17:27:49.231Z"
   },
   {
    "duration": 5,
    "start_time": "2024-08-26T17:35:27.720Z"
   },
   {
    "duration": 3,
    "start_time": "2024-08-26T17:35:31.207Z"
   },
   {
    "duration": 4,
    "start_time": "2024-08-26T17:35:42.098Z"
   },
   {
    "duration": 23,
    "start_time": "2024-08-26T17:35:47.953Z"
   },
   {
    "duration": 5,
    "start_time": "2024-08-26T17:35:51.340Z"
   },
   {
    "duration": 7,
    "start_time": "2024-08-26T17:36:12.655Z"
   },
   {
    "duration": 6,
    "start_time": "2024-08-26T17:36:35.989Z"
   },
   {
    "duration": 4,
    "start_time": "2024-08-26T17:40:00.680Z"
   },
   {
    "duration": 4,
    "start_time": "2024-08-26T17:41:01.616Z"
   },
   {
    "duration": 24,
    "start_time": "2024-08-26T17:42:42.782Z"
   },
   {
    "duration": 8,
    "start_time": "2024-08-26T17:42:49.653Z"
   },
   {
    "duration": 8,
    "start_time": "2024-08-26T17:43:10.798Z"
   },
   {
    "duration": 7,
    "start_time": "2024-08-26T17:43:24.222Z"
   },
   {
    "duration": 2341,
    "start_time": "2024-08-26T19:54:17.600Z"
   },
   {
    "duration": 2719,
    "start_time": "2024-08-26T19:54:19.944Z"
   },
   {
    "duration": 63,
    "start_time": "2024-08-26T19:54:22.665Z"
   },
   {
    "duration": 3,
    "start_time": "2024-08-26T19:54:22.730Z"
   },
   {
    "duration": 11,
    "start_time": "2024-08-26T19:54:22.739Z"
   },
   {
    "duration": 9,
    "start_time": "2024-08-26T19:54:22.752Z"
   },
   {
    "duration": 3,
    "start_time": "2024-08-26T19:54:22.762Z"
   },
   {
    "duration": 8,
    "start_time": "2024-08-26T19:54:22.767Z"
   },
   {
    "duration": 2,
    "start_time": "2024-08-26T19:54:22.776Z"
   },
   {
    "duration": 21,
    "start_time": "2024-08-26T19:54:22.780Z"
   },
   {
    "duration": 112,
    "start_time": "2024-08-26T19:54:22.803Z"
   },
   {
    "duration": 92,
    "start_time": "2024-08-26T19:54:22.917Z"
   },
   {
    "duration": 88,
    "start_time": "2024-08-26T19:54:23.010Z"
   },
   {
    "duration": 77,
    "start_time": "2024-08-26T19:54:23.102Z"
   },
   {
    "duration": 2600,
    "start_time": "2024-08-26T19:54:23.181Z"
   },
   {
    "duration": 3,
    "start_time": "2024-08-26T19:54:25.782Z"
   },
   {
    "duration": 4,
    "start_time": "2024-08-26T19:54:25.787Z"
   },
   {
    "duration": 38,
    "start_time": "2024-08-26T19:54:25.792Z"
   },
   {
    "duration": 17,
    "start_time": "2024-08-26T19:54:25.832Z"
   },
   {
    "duration": 9,
    "start_time": "2024-08-26T19:54:25.851Z"
   },
   {
    "duration": 20,
    "start_time": "2024-08-26T19:54:25.862Z"
   },
   {
    "duration": 20,
    "start_time": "2024-08-26T19:54:25.884Z"
   },
   {
    "duration": 3,
    "start_time": "2024-08-26T19:54:25.906Z"
   },
   {
    "duration": 41,
    "start_time": "2024-08-26T19:54:25.911Z"
   },
   {
    "duration": 4,
    "start_time": "2024-08-26T19:54:25.954Z"
   },
   {
    "duration": 3,
    "start_time": "2024-08-26T19:54:25.960Z"
   },
   {
    "duration": 3,
    "start_time": "2024-08-26T19:54:25.965Z"
   },
   {
    "duration": 77,
    "start_time": "2024-08-26T19:54:25.970Z"
   },
   {
    "duration": 4,
    "start_time": "2024-08-26T19:54:26.049Z"
   },
   {
    "duration": 6,
    "start_time": "2024-08-26T19:54:26.054Z"
   },
   {
    "duration": 36,
    "start_time": "2024-08-26T19:54:26.062Z"
   },
   {
    "duration": 57,
    "start_time": "2024-08-26T19:54:26.100Z"
   },
   {
    "duration": 5,
    "start_time": "2024-08-26T19:54:26.159Z"
   },
   {
    "duration": 44,
    "start_time": "2024-08-26T19:54:26.166Z"
   },
   {
    "duration": 65,
    "start_time": "2024-08-26T19:54:26.212Z"
   },
   {
    "duration": 3,
    "start_time": "2024-08-26T19:54:26.279Z"
   },
   {
    "duration": 4,
    "start_time": "2024-08-26T19:54:26.285Z"
   },
   {
    "duration": 49,
    "start_time": "2024-08-26T19:54:26.290Z"
   },
   {
    "duration": 10,
    "start_time": "2024-08-26T19:54:26.341Z"
   },
   {
    "duration": 6,
    "start_time": "2024-08-26T19:54:26.353Z"
   },
   {
    "duration": 80,
    "start_time": "2024-08-26T19:54:26.364Z"
   },
   {
    "duration": 5,
    "start_time": "2024-08-26T19:54:26.446Z"
   },
   {
    "duration": 5,
    "start_time": "2024-08-26T19:54:26.453Z"
   },
   {
    "duration": 3,
    "start_time": "2024-08-26T19:54:26.459Z"
   },
   {
    "duration": 4,
    "start_time": "2024-08-26T19:54:26.464Z"
   },
   {
    "duration": 20,
    "start_time": "2024-08-26T20:00:18.625Z"
   },
   {
    "duration": 20,
    "start_time": "2024-08-26T20:00:48.446Z"
   },
   {
    "duration": 4,
    "start_time": "2024-08-26T20:01:39.037Z"
   },
   {
    "duration": 5,
    "start_time": "2024-08-26T20:02:08.728Z"
   },
   {
    "duration": 5,
    "start_time": "2024-08-26T20:02:45.301Z"
   },
   {
    "duration": 4,
    "start_time": "2024-08-26T20:03:20.162Z"
   },
   {
    "duration": 7,
    "start_time": "2024-08-26T20:06:49.123Z"
   },
   {
    "duration": 3,
    "start_time": "2024-08-26T21:58:02.301Z"
   },
   {
    "duration": 4,
    "start_time": "2024-08-26T21:58:11.776Z"
   },
   {
    "duration": 9,
    "start_time": "2024-08-26T21:58:45.402Z"
   },
   {
    "duration": 4,
    "start_time": "2024-08-26T21:59:17.629Z"
   },
   {
    "duration": 3,
    "start_time": "2024-08-26T21:59:36.235Z"
   },
   {
    "duration": 5,
    "start_time": "2024-08-26T21:59:58.319Z"
   },
   {
    "duration": 4,
    "start_time": "2024-08-26T22:15:29.133Z"
   },
   {
    "duration": 4,
    "start_time": "2024-08-26T22:15:38.669Z"
   },
   {
    "duration": 6,
    "start_time": "2024-08-26T22:16:14.897Z"
   },
   {
    "duration": 6,
    "start_time": "2024-08-26T22:16:33.076Z"
   }
  ],
  "kernelspec": {
   "display_name": "Python 3 (ipykernel)",
   "language": "python",
   "name": "python3"
  },
  "language_info": {
   "codemirror_mode": {
    "name": "ipython",
    "version": 3
   },
   "file_extension": ".py",
   "mimetype": "text/x-python",
   "name": "python",
   "nbconvert_exporter": "python",
   "pygments_lexer": "ipython3",
   "version": "3.9.19"
  },
  "toc": {
   "base_numbering": 1,
   "nav_menu": {},
   "number_sections": true,
   "sideBar": true,
   "skip_h1_title": true,
   "title_cell": "Table of Contents",
   "title_sidebar": "Contents",
   "toc_cell": false,
   "toc_position": {
    "height": "calc(100% - 180px)",
    "left": "10px",
    "top": "150px",
    "width": "270px"
   },
   "toc_section_display": true,
   "toc_window_display": false
  }
 },
 "nbformat": 4,
 "nbformat_minor": 4
}
